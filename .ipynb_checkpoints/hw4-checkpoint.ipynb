{
 "cells": [
  {
   "cell_type": "markdown",
   "metadata": {},
   "source": [
    "## algorithm design and anlysis-2025 spring  homework 4\n",
    "**Deadline**：2025.5.14\n",
    "\n",
    "**name**:\n",
    "\n",
    "\n",
    "note：\n",
    "---\n",
    "1. 带有\\*的题目，申请免上课的同学，必须完成，其他同学选作；\n",
    "2. 请独立完成，如求助了他人或者大模型，请著明，并且不可省略算法分析部分；\n",
    "4. 如若作答有雷同，全部取消成绩；\n",
    "3. 需要书面作答的题目，可以通过引用图片的形式添加，但是注意上传项目时包含所引用的图片的源文件；\n",
    "4. $log_n$ 默认表示$log_2{n}$;"
   ]
  },
  {
   "cell_type": "markdown",
   "metadata": {},
   "source": [
    "## 问题 1 \n",
    "**最小生成树（Minimum Spanning Tree）**\n",
    "\n",
    "设  **G**  为一个带权重的连通无向图，且所有边的权重均不相等。令$e_i$ 为权重第 $i$ 小的边。最小生成树（MST）是否必须包含 $e_1$ ? 同理，是否必须包含 $e_2$ 和 $e_3$ ? 若必须包含，请给出证明；否则，请构造反例。需从基本原理论证，不能依赖割引理(cut lemma) 或 Prim/Kruskal算法的正确性。\n"
   ]
  },
  {
   "cell_type": "markdown",
   "metadata": {},
   "source": [
    "answer:  \n",
    "1.任何MST必须包含权重最小的边e₁ \n",
    "证明：  \n",
    "假设存在一个MST T不包含e₁=(u,v)。  \n",
    "由于T是生成树，u和v在T中必须连通，设P是T中连接u和v的路径。  \n",
    "因为e₁∉T，所以P中所有边的权重都>w(e₁)（因为e₁是全局最小边）。  \n",
    "将P中权重最大的边e'替换为e₁，得到新生成树T'=T∪{e₁}\\{e'}。  \n",
    "此时w(T') = w(T) - w(e') + w(e₁) < w(T)，因为w(e₁)<w(e')。  \n",
    "这与T是MST矛盾。  \n",
    "因此，任何MST必须包含e₁。  \n",
    "\n",
    "2.任何MST必须包含权重第二小的边e₂  \n",
    "证明：    \n",
    "假设存在一个MST T不包含e₂=(p,q)。  \n",
    "由于T是生成树，p和q在T中必须连通，设P'是T中连接p和q的路径。  \n",
    "因为e₂∉T，所以P'中所有边的权重都>w(e₂)（否则会包含更小的边）。  \n",
    "将P'中权重最大的边e''替换为e₂，得到新生成树T''=T∪{e₂}\\{e''}。  \n",
    "此时w(T'') = w(T) - w(e'') + w(e₂) < w(T)，因为w(e₂)<w(e'')。  \n",
    "这与T是MST矛盾。  \n",
    "因此，任何MST必须包含e₂。  \n",
    "\n",
    "3.存在MST不包含权重第三小的边e₃  \n",
    "证明：  \n",
    "考虑图G=(V,E)，其中：  \n",
    "V = {A,B,C}，E = {e₁=AB(w=1), e₂=BC(w=2), e₃=AC(w=3)}  \n",
    "可能的生成树：  \n",
    "T₁ = {AB, BC} (w=1+2=3)，T₂ = {AB, AC} (w=1+3=4)，T₂ = {BC, AC} (w=2+3=5)  \n",
    "显然T₁是唯一的MST，且不包含e₃。  \n",
    "因此，MST不一定包含e₃。  "
   ]
  },
  {
   "cell_type": "markdown",
   "metadata": {},
   "source": [
    "## 问题 2 \n",
    "**瓶颈生成树（Bottleneck Spanning Tree）**\n",
    "\n",
    "带有权重的无向图 $G(V,E,w)$ 的瓶颈生成树，表现为：在所有生成树中，最大权重边的权重值最小。即，BST $T$ 最小化瓶颈损失 $c(T)=max_{e \\in T}{w(e)}$。\n",
    "\n",
    "1. 证明 $G$ 的每一个最小生成树（MST）都是瓶颈生成树（BST）\n",
    "2. 设计一个线性时间复杂度的算法：， 对于一个图 $G(V,E,w)$ 和一个整数 $b$，判断图 $ G$ 是否存在一个瓶颈生成树，其最大权重边的权重不超过 $b$，分析算法设计思路，并基于python编程实现。\n",
    "3. 设计一个线性时间复杂度的算法：对于给定的图 $G(V,E,w)$，找到其瓶颈生成树，分析算法设计思路，并基于python编程实现。"
   ]
  },
  {
   "cell_type": "markdown",
   "metadata": {},
   "source": [
    "idea：  \n",
    "1.证明：\n",
    "假设存在一个生成树T，其瓶颈值c(T′)<c(T)，其中T是MST，c(T)表示生成树的最大边权。由于T′的最大边权更小，所有T′的边权均 ≤c(T′)。因此T′的边权和sum(T′)≤(n−1)⋅c(T′)。而T的边权和sum(T)≥(n−1)⋅c(T)，因为至少有一条边权为c(T)。由于c(T′)<c(T)，可得sum(T′<sum(T)，这与T是MST 矛盾。因此，MST的瓶颈值c(T)是所有生成树中最小的，即MST必为BST。"
   ]
  },
  {
   "cell_type": "markdown",
   "metadata": {},
   "source": [
    "idea：  \n",
    "2.移除所有权重>b的边，得到子图G′，若G′连通，则存在一个生成树的最大边权≤b，即存在满足条件的BST。  \n",
    "时间复杂度：过滤边权需遍历所有边，时间复杂度O(∣E∣)。连通性检查（BFS/DFS）时间复杂度O(∣V∣+∣E∣)。  \n",
    "总时间复杂度为 O(∣V∣+∣E∣)，即线性时间复杂度。"
   ]
  },
  {
   "cell_type": "code",
   "execution_count": 2,
   "metadata": {},
   "outputs": [
    {
     "name": "stdout",
     "output_type": "stream",
     "text": [
      "True\n"
     ]
    }
   ],
   "source": [
    "# add your code here\n",
    "from collections import deque\n",
    "def exists_bst_max_b(G_edges, V_size, b):\n",
    "    adj = [[] for _ in range(V_size)]\n",
    "    # 过滤边权 ≤ b 的边\n",
    "    for u, v, w in G_edges:\n",
    "        if w <= b:\n",
    "            adj[u].append(v)\n",
    "            adj[v].append(u)\n",
    "    # BFS 检查连通性\n",
    "    visited = [False] * V_size\n",
    "    q = deque([0])\n",
    "    visited[0] = True\n",
    "    count = 1\n",
    "    while q:\n",
    "        u = q.popleft()\n",
    "        for v in adj[u]:\n",
    "            if not visited[v]:\n",
    "                visited[v] = True\n",
    "                count += 1\n",
    "                q.append(v)\n",
    "    return count == V_size\n",
    "\n",
    "G_edges = [(0, 1, 2), (1, 2, 5), (2, 3, 3), (0, 3, 4)]  \n",
    "print(exists_bst_max_b(G_edges, 4, 4)) \n",
    "# algorithm of the liear time complexity "
   ]
  },
  {
   "cell_type": "markdown",
   "metadata": {},
   "source": [
    "idea：  \n",
    "因为MST的瓶颈值即为图的最小可能值，所以先通过Kruskal或Prim算法生成MST，并记录最大边权。利用中位数选择和二分搜索，结合检查函数，快速定位最小可能的瓶颈值。具体来说，先收集所有边的权重到数组W，然后使用快速查找找到中位数bmid。若存在满足条件的BST，则在左半部分继续搜索；否则搜索右半部分，最终找到的最小 b 即为瓶颈值。  \n",
    "时间复杂度：每次快速选择时间复杂度O(∣E∣)，二分搜索最多O(logmax(W))次。总时间复杂度为O(∣E∣logmax(W))，可视为线性时间复杂度。"
   ]
  },
  {
   "cell_type": "code",
   "execution_count": 3,
   "metadata": {},
   "outputs": [
    {
     "name": "stdout",
     "output_type": "stream",
     "text": [
      "4\n"
     ]
    }
   ],
   "source": [
    "import sys\n",
    "\n",
    "def find_bottleneck_value(G_edges, V_size):\n",
    "    weights = list({w for _, _, w in G_edges}) \n",
    "    left, right = 0, len(weights)-1\n",
    "    min_bottleneck = sys.maxsize\n",
    "    while left <= right:\n",
    "        mid = (left + right) // 2\n",
    "        b = weights[mid]\n",
    "        if exists_bst_max_b(G_edges, V_size, b):\n",
    "            min_bottleneck = b\n",
    "            right = mid - 1\n",
    "        else:\n",
    "            left = mid + 1\n",
    "    return min_bottleneck\n",
    "\n",
    "G_edges = [(0, 1, 2), (1, 2, 5), (2, 3, 3), (0, 3, 4)]\n",
    "weights = sorted({w for _, _, w in G_edges}) \n",
    "print(find_bottleneck_value(G_edges, 4))  "
   ]
  },
  {
   "cell_type": "markdown",
   "metadata": {},
   "source": [
    "## 问题 3\n",
    "\n",
    "**道路网（Road Network）**\n",
    "\n",
    "假设有一个以图 $ G(V, E, l) $ 表示的道路网络，连接了一组城市 $ V $。我们假设该网络是有向的，并且每条道路 $(u, v) \\in E$ 都有一个非负的长度 $ l(u, v) $。一条新的道路即将被建造，因此有一个列表 $ E' $ 包含它可以连接的城市对。每对 $(u, v) \\in E'$ 都有一个对应的长度 $ l'(u, v) $。我们希望选择一对城市，使得两个城市 $ s, t \\in V $ 之间的距离减少最大。请为此问题编写一个高效的算法，并详细解释算法的正确性和复杂度。\n"
   ]
  },
  {
   "cell_type": "markdown",
   "metadata": {},
   "source": [
    "idea：  \n",
    "对于给定的道路网络图G(V,E,l)，目标是选择一个候选边(u,v)∈E，使得某两个城市s,t之间的最短距离减少量最大化。首先使用Floyd算法计算原图中所有节点对的最短距离矩阵，时间复杂度为O(n3)。然后遍历每个候选边(u,v)，计算添加该边后可能带来的最大距离减少量。对于任意节点对s,t，新路径可能为s→u→v→t，其长度为d_original[s][u]+l(u,v)+d_original[v][t]。若该值小于原最短距离d_original[s][t]，则减少量为原距离与新距离的差值。需遍历所有s,t找到全局最大减少量。若原距离为无穷大而新路径有效，则减少量视为无穷大。  \n",
    "时间复杂度:Floyd算法的时间复杂度为O(n3)。对每个候选边(u,v)，需遍历所有s,t，时间复杂度为O(n2)。若有m条候选边，总时间为O(mn2)。  \n",
    "总时间复杂度为 O(n3+mn2)。"
   ]
  },
  {
   "cell_type": "code",
   "execution_count": 1,
   "metadata": {},
   "outputs": [
    {
     "name": "stdout",
     "output_type": "stream",
     "text": [
      "最优候选边: (0, 3, 4)\n"
     ]
    }
   ],
   "source": [
    "import sys\n",
    "\n",
    "def floyd_warshall(graph):\n",
    "    n = len(graph)\n",
    "    dist = [[sys.maxsize] * n for _ in range(n)]\n",
    "    for i in range(n):\n",
    "        dist[i][i] = 0\n",
    "        for j, w in graph[i]:\n",
    "            dist[i][j] = w\n",
    "    for k in range(n):\n",
    "        for i in range(n):\n",
    "            for j in range(n):\n",
    "                if dist[i][k] != sys.maxsize and dist[k][j] != sys.maxsize:\n",
    "                    if dist[i][j] > dist[i][k] + dist[k][j]:\n",
    "                        dist[i][j] = dist[i][k] + dist[k][j]\n",
    "    return dist\n",
    "\n",
    "def find_optimal_edge(V, E, E_prime, l_prime):\n",
    "    n = len(V)\n",
    "    graph = [[] for _ in range(n)]\n",
    "    for (u, v, l) in E:\n",
    "        graph[u].append((v, l))\n",
    "    d_original = floyd_warshall(graph)\n",
    "    max_reduction = -sys.maxsize\n",
    "    best_edge = None\n",
    "    \n",
    "    for (u, v, l_new) in E_prime:\n",
    "        current_max = -sys.maxsize\n",
    "        has_infinite_reduction = False\n",
    "        s_exists = any(d_original[s][u] < sys.maxsize for s in range(n))\n",
    "        t_exists = any(d_original[v][t] < sys.maxsize for t in range(n))\n",
    "        if s_exists and t_exists:\n",
    "            for s in range(n):\n",
    "                for t in range(n):\n",
    "                    if d_original[s][u] < sys.maxsize and d_original[v][t] < sys.maxsize:\n",
    "                        if d_original[s][t] == sys.maxsize:\n",
    "                            has_infinite_reduction = True\n",
    "                            break\n",
    "                if has_infinite_reduction:\n",
    "                    break\n",
    "        \n",
    "        if has_infinite_reduction:\n",
    "            current_max = sys.maxsize\n",
    "        else:\n",
    "            for s in range(n):\n",
    "                for t in range(n):\n",
    "                    if d_original[s][t] == sys.maxsize:\n",
    "                        continue\n",
    "                    new_dist = d_original[s][u] + l_new + d_original[v][t]\n",
    "                    if new_dist < d_original[s][t]:\n",
    "                        reduction = d_original[s][t] - new_dist\n",
    "                        if reduction > current_max:\n",
    "                            current_max = reduction\n",
    "        \n",
    "        if current_max > max_reduction:\n",
    "            max_reduction = current_max\n",
    "            best_edge = (u, v, l_new)\n",
    "    \n",
    "    return best_edge\n",
    "\n",
    "V = [0, 1, 2, 3] \n",
    "E = [(0, 1, 2), (1, 2, 3), (2, 3, 1)]\n",
    "E_prime = [(0, 3, 4), (1, 3, 2)]  \n",
    "\n",
    "best_edge = find_optimal_edge(V, E, E_prime, None)\n",
    "print(f\"最优候选边: {best_edge}\")"
   ]
  },
  {
   "cell_type": "markdown",
   "metadata": {},
   "source": [
    "## 问题 4\n",
    "\n",
    "**逃离问题**\n",
    "\n",
    "一个 $ n \\times n $ 的网格是一个无向图，由 $ n $ 行和 $ n $ 列的顶点组成，如下图所示。我们用 $(i,j)$ 表示第 $ i $ 行和第 $ j $ 列的顶点。除了边界顶点，网格中的所有顶点都有四个邻居，即满足 $ i = 1, i = n, j = 1 $ 或 $ j = n $ 的点 $(i,j)$。\n",
    "\n",
    "给定网格中的 $ m \\leq n^2 $ 个起点 $(x_1, y_1), (x_2, y_2), \\cdots , (x_m, y_m)$，逃离问题是确定是否存在 $ m $ 条顶点不相交的路径（即路径之间不相交），从这些起点到边界上的任意 $ m $ 个不同点。例如，图1中的网格存在逃离。\n",
    "\n",
    "(1) 该问题可以看作是一个最大流问题。考虑一个流网络，其中顶点和边都有容量。也就是说，进入任何给定顶点的总正流量受到容量限制。证明在具有边和顶点容量的网络中确定最大流可以简化为在具有可比大小的普通流网络上的最大流问题。更准确地说，你需要将一个具有顶点和边容量的网络 $ G = (V,E) $ 转换为另一个仅具有边容量的网络 $ G' = (V', E') $，使得两个网络上的最大流相同，并且你构建的新网络具有 $ V' = O(V) $ 个顶点和 $ E' = O(E) $ 条边。你可以假设网络是连通的。\n",
    "\n",
    "(2) 描述一个解决逃离问题的高效算法，并分析其运行时间。\n",
    "\n",
    "\n",
    "<div align=\"center\"> <img alt=\"图片\" src=\"./fig/escepe-p.png\"> </div>\n",
    "<center> 图2. 逃脱问题网格，起始顶点为黑色，其他网格顶点为白色</center>"
   ]
  },
  {
   "cell_type": "markdown",
   "metadata": {},
   "source": [
    "idea：  \n",
    "1.题目：带有顶点和边容量的网络 G=(V,E)可以转换为仅含边容量的网络G′=(V′,E′)，使得两者最大流相同，且|V′|=O(|V|)，|E′|=O(|E|)。  \n",
    "证明：  \n",
    "给定原网络G=(V,E)，其中每个顶点v∈V 有容量c(v)≥0，每条边(u,v)∈E有容量c(u,v)≥0  \n",
    "构造新网络G′=(V′,E′) ，对每个顶点v∈V，创建两个新顶点v_in和v_out，添加有向边(v_in, v_out)，容量为c(v)，对原边(u,v)∈E，添加有向边 (u_out, v_in)，容量为c(u,v)。其中，|V′|=2|V|（每个原顶点拆分为两个），|E′|=|V|+|E|（顶点拆分边 + 原边转换），满足|V′|=O(|V|) 且 |E′|=O(|E|)  \n",
    "1.1.证明G的可行流⟹G′的可行流  \n",
    "证明：  \n",
    "设f是G的可行流，构造G′的流f′，对原边(u,v)：f′(u_out→v_in)=f(u,v)，对顶点边(v_in→v_out)：f′(v_in→v_out)=Σ_{u→v}f(u,v)，边容量f′(u_out→v_in)=f(u,v)≤c(u,v)，顶点容量：f′(v_in→v_out)=Σf(u,v)≤c(v)，由顶点拆分结构保证流量守恒  \n",
    "2.2.证明：G′的可行流⟹G的可行流  \n",
    "证明：  \n",
    "设 f′是 G′的可行流，构造G的流f，对原边(u,v)：f(u,v)=f′(u_out→v_in)，边容量：f(u,v)=f′(u_out→v_in)≤c(u,v)，顶点容量：Σf(u,v)=f′(v_in→v_out)≤c(v)，由 G′的守恒性保证流量守恒  \n",
    "所以G 与 G′ 的可行流存在双射关系，故最大流值相同。"
   ]
  },
  {
   "cell_type": "markdown",
   "metadata": {},
   "source": [
    "算法通过构建流网络模型解决网格逃脱问题。首先将每个网格顶点拆分为入点和出点，通过容量为1的边连接以强制顶点不相交。网格邻接边转换为双向边，容量为1确保边不相交。超级源点连接所有起始点的入点，边界顶点出点连接超级汇点。利用Dinic算法分层构建层次图(BFS)和多路增广(DFS)，通过反复寻找阻塞流计算最大流。当最大流量等于起点数量时，说明存在顶点不相交的逃脱路径。  \n",
    "时间复杂度：O(n³)。设网格规模为n×n，总顶点数V=2n²+2，边数E=4n²+4n。Dinic算法时间复杂度为O(V²E)。因所有边容量为1，属于单位容量网络，复杂度优化为O(E√E)。代入V=O(n²)、E=O(n²)得总时间复杂度O(n³)。"
   ]
  },
  {
   "cell_type": "code",
   "execution_count": 10,
   "metadata": {},
   "outputs": [
    {
     "name": "stdout",
     "output_type": "stream",
     "text": [
      "True\n"
     ]
    }
   ],
   "source": [
    "class Edge:\n",
    "    def __init__(self, to, rev, capacity):\n",
    "        self.to = to      # 目标顶点\n",
    "        self.rev = rev    # 反向边在邻接表中的索引\n",
    "        self.capacity = capacity  # 边容量\n",
    "\n",
    "class Dinic:\n",
    "    def __init__(self, n):\n",
    "        self.size = n\n",
    "        self.graph = [[] for _ in range(n)]  # 邻接表存储图\n",
    "    \n",
    "    def add_edge(self, fr, to, cap):\n",
    "        # 添加正向边和反向边\n",
    "        forward = Edge(to, len(self.graph[to]), cap)\n",
    "        backward = Edge(fr, len(self.graph[fr]), 0)\n",
    "        self.graph[fr].append(forward)\n",
    "        self.graph[to].append(backward)\n",
    "    \n",
    "    def bfs_level(self, s, t, level):\n",
    "        # BFS构建层次图，返回是否可达t\n",
    "        queue = [s]\n",
    "        level[:] = [-1] * self.size\n",
    "        level[s] = 0\n",
    "        while queue:\n",
    "            v = queue.pop(0)\n",
    "            for edge in self.graph[v]:\n",
    "                if edge.capacity > 0 and level[edge.to] == -1:\n",
    "                    level[edge.to] = level[v] + 1\n",
    "                    queue.append(edge.to)\n",
    "                    if edge.to == t:\n",
    "                        return True\n",
    "        return False\n",
    "    \n",
    "    def dfs_flow(self, v, t, upTo, iter_, level):\n",
    "        # DFS寻找增广路径\n",
    "        if v == t:\n",
    "            return upTo\n",
    "        for i in range(iter_[v], len(self.graph[v])):\n",
    "            edge = self.graph[v][i]\n",
    "            if edge.capacity > 0 and level[v] < level[edge.to]:\n",
    "                d = self.dfs_flow(edge.to, t, min(upTo, edge.capacity), iter_, level)\n",
    "                if d > 0:\n",
    "                    edge.capacity -= d\n",
    "                    self.graph[edge.to][edge.rev].capacity += d\n",
    "                    return d\n",
    "            iter_[v] += 1\n",
    "        return 0\n",
    "    \n",
    "    def max_flow(self, s, t):\n",
    "        # Dinic算法\n",
    "        flow = 0\n",
    "        level = [-1] * self.size\n",
    "        while self.bfs_level(s, t, level):\n",
    "            iter_ = [0] * self.size\n",
    "            while True:\n",
    "                f = self.dfs_flow(s, t, float('inf'), iter_, level)\n",
    "                if f == 0:\n",
    "                    break\n",
    "                flow += f\n",
    "        return flow\n",
    "\n",
    "def escape_grid(n, starts):\n",
    "    # 顶点拆分后的总顶点数\n",
    "    total_nodes = 2 * n * n + 2\n",
    "    S = 2 * n * n\n",
    "    T = S + 1\n",
    "    dinic = Dinic(total_nodes)\n",
    "    \n",
    "    #顶点拆分，每个顶点拆分为in和out\n",
    "    for i in range(n):\n",
    "        for j in range(n):\n",
    "            v_in = i * n + j\n",
    "            v_out = v_in + n * n\n",
    "            dinic.add_edge(v_in, v_out, 1)  # 顶点容量约束\n",
    "    \n",
    "    # 添加网格边\n",
    "    dirs = [(-1, 0), (1, 0), (0, -1), (0, 1)]\n",
    "    for i in range(n):\n",
    "        for j in range(n):\n",
    "            v_out = i * n + j + n * n\n",
    "            for dx, dy in dirs:\n",
    "                ni, nj = i + dx, j + dy\n",
    "                if 0 <= ni < n and 0 <= nj < n:\n",
    "                    u_in = ni * n + nj\n",
    "                    dinic.add_edge(v_out, u_in, 1)  # 原边容量为1\n",
    "    \n",
    "    # S连接到所有起点的in节点\n",
    "    for (x, y) in starts:\n",
    "        v_in = x * n + y\n",
    "        dinic.add_edge(S, v_in, 1)\n",
    "    \n",
    "    # 所有边界顶点连接到T\n",
    "    for i in range(n):\n",
    "        for j in [0, n-1]:\n",
    "            v_out = i * n + j + n * n\n",
    "            dinic.add_edge(v_out, T, 1)\n",
    "    for j in range(n):\n",
    "        for i in [0, n-1]:\n",
    "            v_out = i * n + j + n * n\n",
    "            dinic.add_edge(v_out, T, 1)\n",
    "    \n",
    "    # 计算最大流\n",
    "    max_flow_value = dinic.max_flow(S, T)\n",
    "    return max_flow_value == len(starts)\n",
    "\n",
    "n = 6\n",
    "starts = [(3, 1), (2, 2), (3, 2), (4, 2), (2, 4), (3, 4), (4, 4), (2, 6), (3, 6), (4, 6)] \n",
    "print(escape_grid(n, starts))  "
   ]
  },
  {
   "cell_type": "code",
   "execution_count": null,
   "metadata": {},
   "outputs": [],
   "source": []
  }
 ],
 "metadata": {
  "kernelspec": {
   "display_name": "Python 3 (ipykernel)",
   "language": "python",
   "name": "python3"
  },
  "language_info": {
   "codemirror_mode": {
    "name": "ipython",
    "version": 3
   },
   "file_extension": ".py",
   "mimetype": "text/x-python",
   "name": "python",
   "nbconvert_exporter": "python",
   "pygments_lexer": "ipython3",
   "version": "3.9.13"
  }
 },
 "nbformat": 4,
 "nbformat_minor": 2
}
