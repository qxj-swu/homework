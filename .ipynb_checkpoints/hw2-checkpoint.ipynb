{
 "cells": [
  {
   "cell_type": "markdown",
   "metadata": {},
   "source": [
    "## algorithm design and anlysis-2025 spring  homework 2\n",
    "**Deadline**：2025.5.14\n",
    "\n",
    "**name**:\n",
    "\n",
    "\n",
    "note：\n",
    "---\n",
    "1. 带有\\*的题目，申请免上课的同学，必须完成，其他同学选作；\n",
    "2. 请独立完成，如求助了他人或者大模型，请著明，并且不可省略算法分析部分；\n",
    "4. 如若作答有雷同，全部取消成绩；\n",
    "3. 需要书面作答的题目，可以通过引用图片的形式添加，但是注意上传项目时包含所引用的图片的源文件；\n",
    "4. $log_n$ 默认表示$log_2{n}$;"
   ]
  },
  {
   "cell_type": "markdown",
   "metadata": {},
   "source": [
    "## 问题 1  \n",
    "\n",
    "> 给定一个已排序的链表的头 `head` ， *删除所有重复的元素，使每个元素只出现一次* 。返回 *已排序的链表* 。链表的类如下所示：\n",
    "\n",
    "```python\n",
    "class NodeList:\n",
    "    def __init__(self, val=None, right=None):\n",
    "        self.val   = val\n",
    "        self.right = right\n",
    "```\n",
    "\n",
    "输入是一个数组，你首先需要将数组转化为链表，然后删除链表中的重复元素，再遍历链表元素，以一个数组的形式返回。请设计一个算法解决上述任务，分析算法设计思路，计算时间复杂度, 并基于python编程实现。\n",
    "\n",
    "e.g.  输入：head=[1, 1, 2, 3, 3]   输出：[1, 2, 3]\n",
    "\n",
    "![image-20240502110020439](./fig/hw2q1.png)\n",
    "\n"
   ]
  },
  {
   "cell_type": "markdown",
   "metadata": {},
   "source": [
    "idea：  \n",
    "首先将输入的数组转换为单向链表。每个节点包含值和指向下一个节点的指针。利用双指针遍历链表，用当前节点作为基准，检查其后续节点的值是否与当前节点值重复。若重复，则跳过该节点，直接连接后续节点；若不重复，则移动当前节点至下一节点。最后遍历处理后的链表，将节点值收集到结果数组中。  \n",
    "时间复杂度：O(n)。链表构建遍历数组一次，删除重复元素每个节点最多被访问两次，链表转数组遍历链表一次。"
   ]
  },
  {
   "cell_type": "code",
   "execution_count": 2,
   "metadata": {},
   "outputs": [
    {
     "name": "stdout",
     "output_type": "stream",
     "text": [
      "[1, 2, 3]\n"
     ]
    }
   ],
   "source": [
    "# add your idea here\n",
    "class NodeList:\n",
    "    def __init__(self, val=None, right=None):\n",
    "        self.val = val\n",
    "        self.right = right\n",
    "\n",
    "def delete_duplicates(head_array):\n",
    "    if not head_array:\n",
    "        return []\n",
    "    \n",
    "    # 将数组转换为链表\n",
    "    head = NodeList(head_array[0])\n",
    "    current = head\n",
    "    for val in head_array[1:]:\n",
    "        current.right = NodeList(val)\n",
    "        current = current.right\n",
    "    \n",
    "    # 删除重复元素\n",
    "    current = head\n",
    "    while current and current.right:\n",
    "        if current.right.val == current.val:\n",
    "            current.right = current.right.right\n",
    "        else:\n",
    "            current = current.right\n",
    "    \n",
    "    # 将链表转换回数组\n",
    "    result = []\n",
    "    current = head\n",
    "    while current:\n",
    "        result.append(current.val)\n",
    "        current = current.right\n",
    "    \n",
    "    return result\n",
    "\n",
    "print(delete_duplicates([1, 1, 2, 3, 3]))         \n",
    "# your algorithm time complexity is:O(n)"
   ]
  },
  {
   "cell_type": "markdown",
   "metadata": {},
   "source": [
    "## 问题 2  \n",
    "\n",
    "> 下面是一个经典的算法问题：\n",
    ">\n",
    "> - 给定包含n个整数的一个整数数组 `nums` 和一个整数目标值 `target`，请你在该数组中找出 **和为目标值** *`target`* 的那 **两个** 整数，并返回它们的**数组下标**。假设每种输入只会对应一个答案。但是，数组中同一个元素在答案里不能重复出现。你可以按任意顺序返回答案。\n",
    ">\n",
    "> 由于要多次查找数组中元素的位置，为了提高查询效率可以使用哈希表来存储数组中的数据，在哈希表中查询一个元素的复杂度为O(1)。 已知python中的字典是使用哈希表实现的，即使用`dict[key]`查询对应的value时间复杂度为O(1), python提供了查询字典是否包含某个key的功能：`key in dict`，时间复杂度也是O(1)\n",
    "\n",
    "请根据上面信息，设计一个时间复杂度为O(n) 的算法，解决上述算法问题\n",
    "\n",
    "e.g.   \n",
    "\n",
    "输入：nums=[2,7,11,15], target=9， 输出：[0，1]\n",
    "\n",
    "输入：nums=[3,2,4], target=6, 输出：[1,2]\n",
    "\n",
    "输入：nums=[3,3], target=6,  输出：[0,1]\n"
   ]
  },
  {
   "cell_type": "markdown",
   "metadata": {},
   "source": [
    "idea:  \n",
    "利用哈希表存储已经遍历过的元素及其下标，遍历数组时，对于当前元素num，计算其补数。若补数存在于哈希表中，则直接返回两者的下标；否则将当前元素存入哈希表。  \n",
    "时间复杂度：O(n)，仅需一次遍历数组，每个元素被访问一次。"
   ]
  },
  {
   "cell_type": "code",
   "execution_count": 5,
   "metadata": {},
   "outputs": [
    {
     "name": "stdout",
     "output_type": "stream",
     "text": [
      "[0, 1]\n",
      "[1, 2]\n",
      "[0, 1]\n"
     ]
    }
   ],
   "source": [
    "# add your idea here\n",
    "def two_sum(nums, target):\n",
    "    hash_map = {}\n",
    "    for index, num in enumerate(nums):\n",
    "        complement = target - num\n",
    "        if complement in hash_map:\n",
    "            return [hash_map[complement], index]\n",
    "        hash_map[num] = index\n",
    "    return [] \n",
    "\n",
    "print(two_sum([2, 7, 11, 15], 9))         \n",
    "print(two_sum([3, 2, 4], 6))              \n",
    "print(two_sum([3, 3], 6))                \n",
    "# your algorithm time complexity is: O(n)"
   ]
  },
  {
   "cell_type": "markdown",
   "metadata": {},
   "source": [
    "## 问题 3:   \n",
    "\n",
    "> 栈是一种常用的数据结构，编译器中通常使用栈来实现表达式求值。\n",
    ">\n",
    "> 以表达式 $3+5 \\times 8-6$​ 为例。编译器使用两个栈来完成运算，即一个栈保持操作数，另一个栈保存运算符。\n",
    ">\n",
    "> 1. 从左向右遍历表达式，遇到数字就压入操作数栈；\n",
    ">\n",
    "> 2. 遇到运算符，就与运算符栈的栈顶元素进行比较。如果比运算符栈顶元素的优先级高，就将当前运算符压入栈；如果比运算符栈顶元素的优先级低或者相同，从运算符栈中取栈顶运算符，从操作数栈的栈顶取 2 个操作数，然后进行计算，再把计算完的结果压入操作数栈，继续比较。\n",
    ">\n",
    "> 下图是 $3+5 \\times 8-6$  这个表达式的计算过程：\n",
    "\n",
    "![figure](./fig/hw2q3.png)\n",
    "\n",
    "根据上述原理，请设计一个算法完成表达式的运算，当输入为表达式字符串，返回对应的计算结果。分析算法设计思路，计算时间复杂度，并基于python编程实现\n",
    "\n",
    "**note：**\n",
    "\n",
    "1. 假设输入的表达式只会出现加（“+”），减 “-”， 乘“*”，除 “/” 四个运算符, 表达式中只会出现正整数\n",
    "2. python中` str.isdigit()`函数可以判断字符串str是否为数字，\n",
    "\n",
    "\n",
    "\n",
    "e.g. :\n",
    "---\n",
    "\n",
    "1. 输入：“$3+5 * 8 -6$”   输出：37\n",
    "\n",
    "2. 输入：“$34+13*9 + 44-12/3$”  输出：191"
   ]
  },
  {
   "cell_type": "markdown",
   "metadata": {},
   "source": [
    "idea:  \n",
    "使用两个栈，一个存储操作数，另一个存储运算符。r然后逐个字符处理输入字符串，忽略空格。遇到数字时，拼接连续的数字字符并转换为整数，压入操作数栈。当遇到运算符时，比较当前运算符与栈顶运算符的优先级。若当前运算符优先级较低或相等，则弹出栈顶运算符进行计算，直到栈顶运算符优先级低于当前运算符或栈为空，最后将当前运算符压入运算符栈。遍历完所有字符后，依次弹出剩余的运算符进行计算，直到运算符栈为空，操作数栈的栈顶元素即为最终结果。  \n",
    "时间复杂度：O(n)，其中n为表达式长度。每个字符被处理一次，每个运算符最多入栈和出栈一次。"
   ]
  },
  {
   "cell_type": "code",
   "execution_count": 7,
   "metadata": {},
   "outputs": [
    {
     "name": "stdout",
     "output_type": "stream",
     "text": [
      "37\n",
      "191\n"
     ]
    }
   ],
   "source": [
    "# add your idea here\n",
    "def calculate(s):\n",
    "    operands = []\n",
    "    operators = []\n",
    "    priority = {'+': 1, '-': 1, '*': 2, '/': 2}\n",
    "    current_number = ''\n",
    "    \n",
    "    for c in s:\n",
    "        if c == ' ':\n",
    "            if current_number:\n",
    "                operands.append(int(current_number))\n",
    "                current_number = ''\n",
    "            continue\n",
    "        if c.isdigit():\n",
    "            current_number += c\n",
    "        else:\n",
    "            if current_number:\n",
    "                operands.append(int(current_number))\n",
    "                current_number = ''\n",
    "            # 处理栈顶优先级高的运算符\n",
    "            while operators and priority[c] <= priority.get(operators[-1], 0):\n",
    "                op = operators.pop()\n",
    "                right = operands.pop()\n",
    "                left = operands.pop()\n",
    "                operands.append(compute(left, right, op))\n",
    "            operators.append(c)\n",
    "    \n",
    "    # 处理最后一个数字\n",
    "    if current_number:\n",
    "        operands.append(int(current_number))\n",
    "    \n",
    "    # 处理剩余的运算符\n",
    "    while operators:\n",
    "        op = operators.pop()\n",
    "        right = operands.pop()\n",
    "        left = operands.pop()\n",
    "        operands.append(compute(left, right, op))\n",
    "    \n",
    "    return operands[0]\n",
    "\n",
    "def compute(a, b, op):\n",
    "    if op == '+':\n",
    "        return a + b\n",
    "    elif op == '-':\n",
    "        return a - b\n",
    "    elif op == '*':\n",
    "        return a * b\n",
    "    elif op == '/':\n",
    "        return a // b  \n",
    "\n",
    "print(calculate(\"3+5 * 8-6\"))          \n",
    "print(calculate(\"34+13 * 9+44-12/3\"))              \n",
    "# your algorithm time complexity is: O(n)"
   ]
  },
  {
   "cell_type": "markdown",
   "metadata": {},
   "source": [
    "## 问题 4:  \n",
    "\n",
    "> 星球碰撞问题：现有n个星球，在同一条直线上运行，如数组A所示，元素的绝对值表示星球的质量，负数表示星球自右向左运动，正数表示星球自左向右运动，当两个星球相撞的时候，质量小的会消失，大的保持不变，**质量相同的两个星球碰撞后自右向左运动的星球消失，自左向右的星球保持不变**，假设所有星球的速度大小相同。\n",
    ">\n",
    "> $ A=[23,-8, 9, -3, -7, 9, -23, 22] $\n",
    "\n",
    "请设计一个算法模拟星球的运行情况，输出最终的星球存续情况（输出一个数组），分析算法设计思路，计算时间复杂度，并基于python编程实现。\n",
    "\n",
    "e.g.\n",
    "---\n",
    "1.  输入： A=[-3,-6,2,8, 5,-8,9,-2,1]， 输出：[-3, -6, 2, 8, 9, 1]\n",
    "\n",
    "2. 输入：A=[23,-8, 9, -3, -7, 9, -23, 22], 输出：[23, 22]\n",
    "\n"
   ]
  },
  {
   "cell_type": "markdown",
   "metadata": {},
   "source": [
    "idea：  \n",
    "利用栈来模拟星球的碰撞过程。遍历数组中的每个元素，根据其正负处理可能的碰撞。正数直接压入栈，因为只有后续的负数可能与之碰撞。负数需要与栈顶的正数比较，若栈顶正数更大，当前负数被销毁；若栈顶正数更小，弹出栈顶，继续与新的栈顶比较；若两者相等，栈顶正数保留，当前负数被销毁。栈中剩余元素即为最终剩下8的星球。  \n",
    "O(n)，每个元素最多入栈和出栈一次。"
   ]
  },
  {
   "cell_type": "code",
   "execution_count": 13,
   "metadata": {},
   "outputs": [
    {
     "name": "stdout",
     "output_type": "stream",
     "text": [
      "[23, 22]\n",
      "[-3, -6, 2, 8, 9, 1]\n"
     ]
    }
   ],
   "source": [
    "# add your idea here\n",
    "def asteroidCollision(self, asteroids):\n",
    "    stack = []\n",
    "    for num in asteroids:\n",
    "        if num < 0:\n",
    "            # 处理可能碰撞的栈顶正数\n",
    "            while stack and stack[-1] > 0:\n",
    "                if stack[-1] > -num:\n",
    "                    # 当前行星质量小，被摧毁\n",
    "                    break\n",
    "                elif stack[-1] < -num:\n",
    "                    # 栈顶行星质量小，弹出栈顶\n",
    "                    stack.pop()\n",
    "                else:\n",
    "                    # 质量相等，当前行星被摧毁，栈顶保留\n",
    "                    break\n",
    "            else:\n",
    "                # 栈为空或栈顶为负数，压入当前行星\n",
    "                stack.append(num)\n",
    "        else:\n",
    "            # 当前行星向右，直接压入\n",
    "            stack.append(num)\n",
    "    return stack\n",
    "\n",
    "print(Solution().asteroidCollision([23, -8, 9, -3, -7, 9, -23, 22]))  \n",
    "print(Solution().asteroidCollision([-3, -6, 2, 8, 5, -8, 9, -2, 1]))  \n",
    "# your algorithm time complexity is: O(n)"
   ]
  },
  {
   "cell_type": "markdown",
   "metadata": {},
   "source": [
    "## 问题 5 \n",
    "\n",
    "> 给定一个无序数组nums=[9,-3,-10,0,9,7,33]，请建立一个二叉搜索树存储数组中的所有元素，之后删除二叉树中的元素“0”，再使用中序遍历输出二叉搜索树中的所有元素。\n",
    "\n",
    "使用python编程完成上述任务，并计算时间复杂度\n"
   ]
  },
  {
   "cell_type": "code",
   "execution_count": 14,
   "metadata": {},
   "outputs": [
    {
     "name": "stdout",
     "output_type": "stream",
     "text": [
      "[-10, -3, 7, 9, 9, 33]\n"
     ]
    }
   ],
   "source": [
    "# add your idea here\n",
    "class TreeNode:\n",
    "    def __init__(self, val=0, left=None, right=None):\n",
    "        self.val = val\n",
    "        self.left = left\n",
    "        self.right = right\n",
    "\n",
    "def insert(root, val):\n",
    "    if not root:\n",
    "        return TreeNode(val)\n",
    "    if val < root.val:\n",
    "        root.left = insert(root.left, val)\n",
    "    else:\n",
    "        root.right = insert(root.right, val)\n",
    "    return root\n",
    "\n",
    "def find_min(node):\n",
    "    current = node\n",
    "    while current.left:\n",
    "        current = current.left\n",
    "    return current\n",
    "\n",
    "def delete_node(root, key):\n",
    "    if not root:\n",
    "        return root\n",
    "    if key < root.val:\n",
    "        root.left = delete_node(root.left, key)\n",
    "    elif key > root.val:\n",
    "        root.right = delete_node(root.right, key)\n",
    "    else:\n",
    "        if not root.left:\n",
    "            return root.right\n",
    "        elif not root.right:\n",
    "            return root.left\n",
    "        else:\n",
    "            min_node = find_min(root.right)\n",
    "            root.val = min_node.val\n",
    "            root.right = delete_node(root.right, min_node.val)\n",
    "    return root\n",
    "\n",
    "def inorder_traversal(root, result):\n",
    "    if root:\n",
    "        inorder_traversal(root.left, result)\n",
    "        result.append(root.val)\n",
    "        inorder_traversal(root.right, result)\n",
    "\n",
    "nums = [9, -3, -10, 0, 9, 7, 33]\n",
    "root = None\n",
    "for num in nums:\n",
    "    root = insert(root, num)\n",
    "root = delete_node(root, 0)\n",
    "result = []\n",
    "inorder_traversal(root, result)\n",
    "print(result) \n",
    "# your algorithm time complexity is:O(nlogn)"
   ]
  },
  {
   "cell_type": "markdown",
   "metadata": {},
   "source": [
    "## 问题 6  \n",
    "\n",
    "> 给定一个包含大写字母和小写字母的字符串 s ，返回 字符串包含的 **最长的回文子串的长度** 。请注意 区分大小写 。比如 \"Aa\" 不能当做一个回文字符串。\n",
    ">\n",
    "\n",
    "请设计一个算法解决上述问题，只需要输出最长回文子串的长度，分析算法设计思路，计算时间复杂度，并基于python编程实现\n",
    "\n",
    "e.g. 输入： s=\"adccaccd\"，  输出：7。 最长回文子串为：\"dccaccd\", 长度为7\n"
   ]
  },
  {
   "cell_type": "markdown",
   "metadata": {},
   "source": [
    "idea：  \n",
    "回文串的中心可能是一个字符或两个相同字符。遍历每个可能的中心，向两边扩展，记录最长回文子串的长度。从给定的左右指针向两边扩展，直到不满足回文条件，返回当前回文的长度。对于每个字符，分别作为奇数长度和偶数长度的中心进行扩展，更新最大长度。  \n",
    "时间复杂度：O(n²)，n是字符串的长度。每个中心点最多扩展n次。"
   ]
  },
  {
   "cell_type": "code",
   "execution_count": 19,
   "metadata": {},
   "outputs": [
    {
     "name": "stdout",
     "output_type": "stream",
     "text": [
      "7\n"
     ]
    }
   ],
   "source": [
    "# add your idea here\n",
    "def longest_palindrome(s):\n",
    "    if not s:\n",
    "        return 0\n",
    "    \n",
    "    max_len = 0\n",
    "    for i in range(len(s)):\n",
    "        # 奇数长度\n",
    "        len1 = expand(s, i, i)\n",
    "        # 偶数长度\n",
    "        len2 = expand(s, i, i + 1)\n",
    "        current_max = max(len1, len2)\n",
    "        if current_max > max_len:\n",
    "            max_len = current_max\n",
    "    return max_len\n",
    "\n",
    "def expand(s, left, right):\n",
    "    while left >= 0 and right < len(s) and s[left] == s[right]:\n",
    "        left -= 1\n",
    "        right += 1\n",
    "    return right - left - 1\n",
    "\n",
    "print(longest_palindrome(\"adccaccd\")) \n",
    "# your algorithm time complexity is:O(n²)"
   ]
  },
  {
   "cell_type": "markdown",
   "metadata": {},
   "source": [
    "## 问题 7 \n",
    "\n",
    "> 沿一条长河流分散着n座房子。你可以把这条河想象成一条轴，房子是由它们在这条轴上的坐标按顺序排列的。你的公司想在河边的特定地点设置手机基站，这样每户人家都在距离基站4公里的范围内。输入可以看作为一个升序数组，数组元素的取值为大于等于0的正整数，你需要输出最小基站的数目，基站的位置。\n",
    "\n",
    "1. 给出一个时间复杂度为$O(n$) 的算法，使所使用的基站数量最小化，分析算法设计思路，使用python编程实现\n",
    "2. 证明1.中算法产生了最优解决方案。\n",
    "\n",
    "e.g. \n",
    "\n",
    "输入： [1, 5, 12, 33, 34,35]  输出：基站数目为3， 基站位置为[1，12，33]\n",
    "\n"
   ]
  },
  {
   "cell_type": "markdown",
   "metadata": {},
   "source": [
    "idea：  \n",
    "使用贪心法，每次选择当前未被覆盖的最左边的房子作为基站位置，确保覆盖范围尽可能向右延伸。基站的覆盖范围为(当前房子坐标, 当前房子坐标 + 4)。遍历数组一次，每次确定当前基站的覆盖范围，并跳过所有被覆盖的房子，直到所有房子都被覆盖。  \n",
    "时间复杂度：O(n)，每个房屋最多被访问一次。"
   ]
  },
  {
   "cell_type": "code",
   "execution_count": 23,
   "metadata": {},
   "outputs": [
    {
     "name": "stdout",
     "output_type": "stream",
     "text": [
      "基站数目为3， 基站位置为[1, 12, 33]\n"
     ]
    }
   ],
   "source": [
    "# add your idea here\n",
    "def min_base_stations(houses):\n",
    "    if not houses:\n",
    "        return (0, [])\n",
    "    stations = []\n",
    "    i = 0\n",
    "    n = len(houses)\n",
    "    while i < n:\n",
    "        current_house = houses[i]\n",
    "        stations.append(current_house)\n",
    "        j = i\n",
    "        while j < n and houses[j] <= current_house + 4:\n",
    "            j += 1\n",
    "        i = j\n",
    "    return (len(stations), stations)\n",
    "\n",
    "def min_base_stations(houses):\n",
    "    if not houses:\n",
    "        return (0, [])\n",
    "    stations = []\n",
    "    i = 0\n",
    "    n = len(houses)\n",
    "    while i < n:\n",
    "        current_house = houses[i]\n",
    "        stations.append(current_house)\n",
    "        # 找到最远可以被当前基站覆盖的房子\n",
    "        j = i\n",
    "        while j < n and houses[j] <= current_house + 4:\n",
    "            j += 1\n",
    "        i = j\n",
    "    return (len(stations), stations)\n",
    "\n",
    "result = min_base_stations([1, 5, 12, 33, 34, 35])\n",
    "print(f\"基站数目为{result[0]}， 基站位置为{result[1]}\") \n",
    "\n",
    "# your algorithm time complexity is:O(n)"
   ]
  },
  {
   "cell_type": "markdown",
   "metadata": {},
   "source": [
    "## 问题 8  \n",
    "\n",
    "> 给定由n个正整数组成的一个集合$S = \\{a_1, a_2，···，a_n\\}$和一个正整数W，设计一个算法确定是否存在S的一个子集 $K \\subseteq S$, 使K中所有数之和为 $W$, 如果存在返回“True”，否则返回“False”\n",
    "\n",
    "请设计一个时间复杂度为$O(nW)$动态规划算法，解决上述问题，分析算法的设计思路，并且基于python编程实现（不需要输出子集）。\n",
    "\n",
    "e.g. \n",
    "\n",
    "输入：S = {1,4,7,3,5}， W = 11，输出：True。   因为K可以是{4,7}。\n",
    "\n"
   ]
  },
  {
   "cell_type": "markdown",
   "metadata": {},
   "source": [
    "idea：  \n",
    "使用一维布尔数组dp，其中dp[j]表示是否存在子集的和为j。初始化dp[0]=True，表示空集存在。对于每个元素num，从后向前更新dp数组。若dp[j - num]为True，则dp[j]也为True。逆序更新确保每个元素仅被使用一次，避免重复选取。"
   ]
  },
  {
   "cell_type": "code",
   "execution_count": 25,
   "metadata": {},
   "outputs": [
    {
     "name": "stdout",
     "output_type": "stream",
     "text": [
      "True\n"
     ]
    }
   ],
   "source": [
    "# add your idea here\n",
    "def has_subset_sum(S, W):\n",
    "    dp = [False] * (W + 1)\n",
    "    dp[0] = True  \n",
    "    for num in S:\n",
    "        for j in range(W, num - 1, -1):\n",
    "            if dp[j - num]:\n",
    "                dp[j] = True\n",
    "    return dp[W]\n",
    "\n",
    "print(has_subset_sum([1, 4, 7, 3, 5], 11))  \n",
    "# your algorithm time complexity is: O(nW)"
   ]
  },
  {
   "cell_type": "markdown",
   "metadata": {},
   "source": [
    "\n",
    "\n",
    "## 问题 9 \n",
    "\n",
    "> 给定一个n个物品的集合。物体的重量为$w_1, w_2，…、w_n$，物品的价值分别是$v_1、v_2、…v_n$。给你**两个**重量为 $c$ 的背包。如果你带了一个东西，它可以放在一个背包里，也可以放在另一个背包里，但不能同时放在两个背包里。所有权重和价值都是正整数。\n",
    "\n",
    "1. 设计一个时间复杂度为 $O(nc^2)$ 的动态规划算法，确定可以放入两个背包的物体的最大价值。分析算法设计思路，并基于python编程实现\n",
    "2. \\* 修改1中的算法，输出每个背包的内容（物品对应下标）。\n",
    "\n",
    "e.g.: \n",
    "\n",
    "输入 V=[1,3,2,5,8,7], W=[1,3,2,5,8,7], c=7, 输出：最大价值=14，背包装的物品为：[6] [4，3] （同一个背包中物品装入顺序对结果无影响）  \n"
   ]
  },
  {
   "cell_type": "markdown",
   "metadata": {},
   "source": [
    "idea：  \n",
    "使用二维数组dp[j][k]表示第一个背包使用容量 j，第二个背包使用容量 k 时的最大价值。对于每个物品，尝试将其放入第一个背包或第二个背包，更新 dp数组。状态转移方程如下，放入第一个背包：dp[j][k] = max(dp[j][k], dp[j - w][k] + v)，放入第二个背包：dp[j][k] = max(dp[j][k], dp[j][k - w] + v)。为了避免重复使用物品，逆序遍历j和k。通过维护prev数组记录每个状态的选择，回溯得到每个背包的物品。  \n",
    "时间复杂度：O(nc²)，遍历每个物品并对每个可能的容量组合进行更新。"
   ]
  },
  {
   "cell_type": "code",
   "execution_count": 27,
   "metadata": {},
   "outputs": [
    {
     "name": "stdout",
     "output_type": "stream",
     "text": [
      "最大价值=14，背包装的物品为：[6] [3, 4]\n"
     ]
    }
   ],
   "source": [
    "# add your idea here\n",
    "def max_value_and_backpacks(V, W, c):\n",
    "    n = len(V)\n",
    "    dp = [[-float('inf')] * (c + 1) for _ in range(c + 1)]\n",
    "    dp[0][0] = 0\n",
    "    prev = [[None for _ in range(c + 1)] for _ in range(c + 1)]\n",
    "    \n",
    "    for i in range(n):\n",
    "        wi = W[i]\n",
    "        vi = V[i]\n",
    "        # 逆序遍历\n",
    "        for j in range(c, -1, -1):\n",
    "            for k in range(c, -1, -1):\n",
    "                # 放入第一个背包\n",
    "                if j >= wi and dp[j - wi][k] + vi > dp[j][k]:\n",
    "                    dp[j][k] = dp[j - wi][k] + vi\n",
    "                    prev[j][k] = (j - wi, k, i, 0)\n",
    "                # 放入第二个背包\n",
    "                if k >= wi and dp[j][k - wi] + vi > dp[j][k]:\n",
    "                    dp[j][k] = dp[j][k - wi] + vi\n",
    "                    prev[j][k] = (j, k - wi, i, 1)\n",
    "    \n",
    "    # 找到最大价值\n",
    "    max_val = -float('inf')\n",
    "    best_j, best_k = 0, 0\n",
    "    for j in range(c + 1):\n",
    "        for k in range(c + 1):\n",
    "            if dp[j][k] > max_val:\n",
    "                max_val = dp[j][k]\n",
    "                best_j, best_k = j, k\n",
    "    \n",
    "    # 找出选择的物品\n",
    "    selected = set()\n",
    "    bags = [[], []]\n",
    "    current_j, current_k = best_j, best_k\n",
    "    while current_j > 0 or current_k > 0:\n",
    "        if prev[current_j][current_k] is None:\n",
    "            break\n",
    "        prev_j, prev_k, item, which_bag = prev[current_j][current_k]\n",
    "        if item is not None and item not in selected:\n",
    "            selected.add(item)\n",
    "            if which_bag == 0:\n",
    "                bags[0].append(item + 1)  \n",
    "            else:\n",
    "                bags[1].append(item + 1)\n",
    "        current_j, current_k = prev_j, prev_k\n",
    "        \n",
    "    # 排序\n",
    "    bags[0].sort()\n",
    "    bags[1].sort()\n",
    "    return max_val, bags\n",
    "\n",
    "V = [1, 3, 2, 5, 8, 7]\n",
    "W = [1, 3, 2, 5, 8, 7]\n",
    "c = 7\n",
    "max_val, bags = max_value_and_backpacks(V, W, c)\n",
    "print(f\"最大价值={max_val}，背包装的物品为：{bags[0]} {bags[1]}\")\n",
    "# your algorithm time complexity is: O(nc^2)"
   ]
  },
  {
   "cell_type": "markdown",
   "metadata": {},
   "source": [
    "## 问题 10 \n",
    "\n",
    "> 给定两个字符串 $x[1..n]$ 和 $y[1..m]$，我们想通过以下操作将 $x$ 变换为 $y$ :\n",
    ">\n",
    "> **插入**：在 $x$ 中插入一个字符(在任何位置)；**删除**：从 $x$ 中删除一个字符(在任何位置)； **替换**：用另一个字符替换 $x$ 中的一个字符。\n",
    ">\n",
    "> 例如: $x = abcd$, $y = bcfe$，\n",
    ">\n",
    "> - 将 $x$ 转换为 $y$ 的一种可能方法是：1. 删除 $x$ 开头的 $a$, $x$变成 $bcd$； 2. 将 $x$ 中的字符 $d$ 替换为字符 $f$。$x$ 变成 $bcf$； 3. 在 $x$ 的末尾插入字符 $e$。$x$ 变成 $bcfe$。\n",
    ">\n",
    "> - 另一种可能的方法：1. 删除 $x$ 开头的 $a$,  $x$ 变成 $bcd$； 2. 在 $x$ 中字符 $d$ 之前插入字符 $f$。$x$ 变成 $bcfd$。3. 将 $x$ 中的字符 $d$ 替换为字符 $e$。$x$ 变成 $bcfe$。\n",
    "\n",
    "设计一个时间复杂度为 $O(mn)$ 的算法，返回将 $x$ 转换为 $y$ 所需的最少操作次数。分析算法设计思路，并基于python编程实现。\n"
   ]
  },
  {
   "cell_type": "markdown",
   "metadata": {},
   "source": [
    "idea：  \n",
    "定义二维数组dp[i][j]表示将字符串x的前i个字符转换为y的前j个字符所需的最少操作次数。初始化dp[i][0] = i表示将x的前i个字符转换为空字符串需要 i次删除操作。dp[0][j] = j表示将空字符串转换为y的前j个字符需要j次插入操作。在状态转移时，若x[i-1] == y[j-1]，则 dp[i][j] = dp[i-1][j-1]。\n",
    "否则，取插入，删除和替换这三种操作的最小值加1，最后dp[n][m]即为最少操作次数，其中n和m分别为x和y的长度。  \n",
    "时间复杂度：O(mn)，遍历两个字符串的所有字符组合。"
   ]
  },
  {
   "cell_type": "code",
   "execution_count": 29,
   "metadata": {},
   "outputs": [
    {
     "name": "stdout",
     "output_type": "stream",
     "text": [
      "3\n"
     ]
    }
   ],
   "source": [
    "# add your idea here\n",
    "def min_edit_distance(x, y):\n",
    "    n = len(x)\n",
    "    m = len(y)\n",
    "    # 初始化\n",
    "    dp = [[0] * (m + 1) for _ in range(n + 1)]\n",
    "    for i in range(n + 1):\n",
    "        dp[i][0] = i \n",
    "    for j in range(m + 1):\n",
    "        dp[0][j] = j  \n",
    "\n",
    "    for i in range(1, n + 1):\n",
    "        for j in range(1, m + 1):\n",
    "            if x[i-1] == y[j-1]:\n",
    "                dp[i][j] = dp[i-1][j-1]\n",
    "            else:\n",
    "                insert = dp[i][j-1] + 1\n",
    "                delete = dp[i-1][j] + 1\n",
    "                replace = dp[i-1][j-1] + 1\n",
    "                dp[i][j] = min(insert, delete, replace)\n",
    "    \n",
    "    return dp[n][m]\n",
    "\n",
    "x1, y1 = \"abcd\", \"bcfe\"\n",
    "print(min_edit_distance(x1, y1)) \n",
    "# your algorithm time complexity is: O(mn)"
   ]
  },
  {
   "cell_type": "code",
   "execution_count": null,
   "metadata": {},
   "outputs": [],
   "source": []
  }
 ],
 "metadata": {
  "kernelspec": {
   "display_name": "Python 3 (ipykernel)",
   "language": "python",
   "name": "python3"
  },
  "language_info": {
   "codemirror_mode": {
    "name": "ipython",
    "version": 3
   },
   "file_extension": ".py",
   "mimetype": "text/x-python",
   "name": "python",
   "nbconvert_exporter": "python",
   "pygments_lexer": "ipython3",
   "version": "3.9.13"
  }
 },
 "nbformat": 4,
 "nbformat_minor": 2
}
