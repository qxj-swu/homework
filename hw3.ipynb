{
 "cells": [
  {
   "cell_type": "markdown",
   "metadata": {},
   "source": [
    "## algorithm design and anlysis-2025 spring  homework 3\n",
    "**Deadline**：2025.5.14\n",
    "\n",
    "**name**:\n",
    "\n",
    "\n",
    "note：\n",
    "---\n",
    "1. 带有\\*的题目，申请免上课的同学，必须完成，其他同学选作；\n",
    "2. 请独立完成，如求助了他人或者大模型，请著明，并且不可省略算法分析部分；\n",
    "4. 如若作答有雷同，全部取消成绩；\n",
    "3. 需要书面作答的题目，可以通过引用图片的形式添加，但是注意上传项目时包含所引用的图片的源文件；\n",
    "4. $log_n$ 默认表示$log_2{n}$;"
   ]
  },
  {
   "cell_type": "markdown",
   "metadata": {},
   "source": [
    "## 问题 1  \n",
    "\n",
    "请证明基于比较的排序算法计算复杂度下界为$\\Omega(nlogn)$"
   ]
  },
  {
   "cell_type": "markdown",
   "metadata": {},
   "source": [
    "answer:  \n",
    "<div align=\"center\"> <img alt=\"图片\" src=\"./fig/hw3a1.png\"> </div>\n",
    "<center> 图1.问题1答案</center>"
   ]
  },
  {
   "cell_type": "markdown",
   "metadata": {},
   "source": [
    "## 问题 2 \n",
    "\n",
    "构建二叉搜索树\n",
    "\n",
    "> 1. 给定一个数组 [48, 33, 49, 47, 42, 46, 32], 构建一个二叉搜索树存储这些数据，请**绘制**所构建的**二叉搜索树**（标明结点的值）。\n",
    "> 2. 从第1问的二叉搜索树中删除33，请**绘制**删除33后的**二叉搜索树**（标明结点的值）\n",
    "\n",
    "- 推荐使用graphviz包绘制树的结构"
   ]
  },
  {
   "cell_type": "markdown",
   "metadata": {},
   "source": [
    "answer:  \n",
    "<div align=\"center\"> <img alt=\"图片\" src=\"./fig/hw3a2.png\"> </div>\n",
    "<center> 图2.问题2答案</center>"
   ]
  },
  {
   "cell_type": "markdown",
   "metadata": {},
   "source": [
    "## 问题 3 \n",
    "\n",
    "> 下面是九门课程的开始和结束时间:\n",
    ">\n",
    "> [(9:00,12:30), (11:00,14:00), (13:00, 14:30), (9:00,10:30),(13:00, 14:30),(14:00,16:30), (15:00,16:30), (15:00,16:30), (9:00,10:30)]\n",
    ">\n",
    "> 请使用贪婪算法为这九门课分配教室，要求在同一天内安排这些课，并且每个教室同一时间只能安排一门课。\n",
    "\n",
    "**请问最少需要几间教室，罗列出每个教室安排的课程**"
   ]
  },
  {
   "cell_type": "markdown",
   "metadata": {},
   "source": [
    "idea：  \n",
    "首先将课程按开始时间升序排序，开始时间相同则按结束时间升序，确保优先处理时间早的课程。通过维护一个教室列表，记录每个教室的当前结束时间和分配的课程。遍历每个课程时，检查所有现有教室中是否存在空闲教室，即其结束时间 ≤ 当前课程开始时间，若存在则选择最早结束的教室复用，否则新建教室。通过动态更新教室的结束时间，保证每次分配均以最小化新增教室为目标，从而全局最优。    \n",
    "时间复杂度：排序复杂度为 O(nlogn)。外层循环遍历所有课程（O(n)），内层每次遍历现有教室寻找可用位置（最坏 O(n)），总复杂度为 O(n2)。  \n",
    "总时间复杂度为 O(nlogn)+O(n2)=O(n2)。\n",
    "\n"
   ]
  },
  {
   "cell_type": "code",
   "execution_count": 1,
   "metadata": {
    "vscode": {
     "languageId": "plaintext"
    }
   },
   "outputs": [
    {
     "name": "stdout",
     "output_type": "stream",
     "text": [
      "最少需要 3 间教室\n",
      "教室1: [('9:00', '10:30'), ('11:00', '14:00'), ('14:00', '16:30')]\n",
      "教室2: [('9:00', '10:30'), ('13:00', '14:30'), ('15:00', '16:30')]\n",
      "教室3: [('9:00', '12:30'), ('13:00', '14:30'), ('15:00', '16:30')]\n"
     ]
    }
   ],
   "source": [
    "def time_to_min(t):\n",
    "    h, m = map(int, t.split(':'))\n",
    "    return h * 60 + m\n",
    "\n",
    "def min_classrooms(courses):\n",
    "    sorted_courses = sorted(\n",
    "        courses,\n",
    "        key=lambda x: (time_to_min(x[0]), time_to_min(x[1]))\n",
    "    )\n",
    "    \n",
    "    classrooms = []  \n",
    "    \n",
    "    for course in sorted_courses:\n",
    "        start = time_to_min(course[0])\n",
    "        end = time_to_min(course[1])\n",
    "        earliest_end = float('inf')\n",
    "        selected = -1\n",
    "        for i, room in enumerate(classrooms):\n",
    "            if room[0] <= start and room[0] < earliest_end:\n",
    "                earliest_end = room[0]\n",
    "                selected = i\n",
    "        if selected != -1:\n",
    "            classrooms[selected][0] = end\n",
    "            classrooms[selected][1].append(course)\n",
    "        else:\n",
    "            classrooms.append([end, [course]])\n",
    "    \n",
    "    return classrooms\n",
    "\n",
    "courses = [\n",
    "    (\"9:00\", \"12:30\"), (\"11:00\", \"14:00\"), (\"13:00\", \"14:30\"),\n",
    "    (\"9:00\", \"10:30\"), (\"13:00\", \"14:30\"), (\"14:00\", \"16:30\"),\n",
    "    (\"15:00\", \"16:30\"), (\"15:00\", \"16:30\"), (\"9:00\", \"10:30\")\n",
    "]\n",
    "result = min_classrooms(courses)\n",
    "print(f\"最少需要 {len(result)} 间教室\")\n",
    "for idx, room in enumerate(result, 1):\n",
    "    print(f\"教室{idx}: {room[1]}\")"
   ]
  },
  {
   "cell_type": "markdown",
   "metadata": {},
   "source": [
    "## 问题 4 \n",
    "\n",
    "> 爬楼梯问题：假设爬楼梯时你每次只能爬一阶或者爬两阶，问爬上n阶的楼梯，你一共有多少种方法\n",
    "\n",
    "请设计算法完成该问题，分析算法设计思路，计算时间复杂度，并基于python编程实现"
   ]
  },
  {
   "cell_type": "markdown",
   "metadata": {},
   "source": [
    "idea：  \n",
    "该问题类似斐波那契数列，递推公式为：f(n) = f(n-1) + f(n-2)，表示到达第n阶的最后一步可以是跨1阶或2阶。通过动态规划优化递归的重复计算，仅维护前两个状态的值 a（对应 f(n-2)）和 b（对应 f(n-1)），迭代更新直到计算出 f(n)。    \n",
    "时间复杂度为O(n)，需遍历从3到n的每个台阶，每次迭代执行常数时间的加法操作。"
   ]
  },
  {
   "cell_type": "code",
   "execution_count": null,
   "metadata": {},
   "outputs": [],
   "source": [
    "# add your code here\n",
    "def climb_stairs(n: int) -> int:\n",
    "    if n <= 2:\n",
    "        return n\n",
    "    a, b = 1, 2\n",
    "    for _ in range(3, n + 1):\n",
    "        a, b = b, a + b\n",
    "    return b\n",
    "# your algorithm time complexity is: O(n)"
   ]
  },
  {
   "cell_type": "markdown",
   "metadata": {},
   "source": [
    "## 问题 5 \n",
    "\n",
    "> 0-1背包问题：现在有4块大理石，每个大理石对应的重量和价值使用一个元组表示, 即（重量，价值），4块大理石的重量和价值为：[(5,10), (4,40), (6,30), (3, 50)], 假设你有一辆最大承重为9的小推车，请问使用这个小推车装大理石的最大价值为多少\n",
    "\n",
    "请设计一个算法解决该问题，分析算法设计思路，计算时间复杂度，并基于python编程实现"
   ]
  },
  {
   "cell_type": "markdown",
   "metadata": {},
   "source": [
    "idea：  \n",
    "构建二维状态表dp[i][w]表示前i个物品在背包容量为w时的最大价值。递推公式为：不选第i个物品：dp[i][w] = dp[i-1][w]，选第i个物品：dp[i][w] = dp[i-1][w - weight_i] + value_i（需满足w ≥ weight_i），最终结果存储在dp[n][capacity]中，表示前n个物品在最大容量下的最优解。  \n",
    "时间复杂度为O(n·capacity)，其中n为物品数量，capacity为背包容量。外层循环遍历n个物品（时间复杂度O(n)），内层循环遍历0到capacity的所有重量（时间复杂度O(capacity)），总时间复杂度为O(n·capacity)。当两者数量接近时，约等于O(n2）。"
   ]
  },
  {
   "cell_type": "code",
   "execution_count": 2,
   "metadata": {},
   "outputs": [
    {
     "name": "stdout",
     "output_type": "stream",
     "text": [
      "最大价值为：90\n"
     ]
    }
   ],
   "source": [
    "# add your code here\n",
    "def knapsack(items, capacity):\n",
    "    n = len(items)\n",
    "    dp = [[0] * (capacity + 1) for _ in range(n + 1)]\n",
    "    \n",
    "    for i in range(1, n + 1):\n",
    "        weight, value = items[i-1]\n",
    "        for w in range(capacity + 1):\n",
    "            if w < weight:\n",
    "                dp[i][w] = dp[i-1][w]\n",
    "            else:\n",
    "                dp[i][w] = max(dp[i-1][w], dp[i-1][w - weight] + value)\n",
    "    return dp[n][capacity]\n",
    "\n",
    "items = [(5, 10), (4, 40), (6, 30), (3, 50)]\n",
    "capacity = 9\n",
    "\n",
    "max_value = knapsack(items, capacity)\n",
    "print(f\"最大价值为：{max_value}\")  \n",
    "# your algorithm time complexity is:O(n2）"
   ]
  },
  {
   "cell_type": "markdown",
   "metadata": {},
   "source": [
    "## 问题 6 \n",
    "给定 `n` 个非负整数表示每个宽度为 `1` 的柱子的高度图，计算按此排列的柱子，下雨之后能接多少雨水。\n",
    "\n",
    "\n",
    "\n",
    "<div style=\"text-align:center;width:800px;\"> <img alt=\"\" src=\"./fig/hw3q6.png\"> </div>\n",
    "\n",
    "请分析算法设计思路，计算时间复杂度，并基于python编程实现"
   ]
  },
  {
   "cell_type": "markdown",
   "metadata": {},
   "source": [
    "idea：  \n",
    "算法采用双指针法，维护左右指针和对应的左右最大高度。每次选择高度较小的一侧处理：若当前高度大于该侧的最大高度，则更新最大高度；否则计算当前列的积水量（当前侧最大高度与当前列高度的差值）。通过逐步向中间移动指针，确保每次操作只处理可能形成低洼的区域，从而避免重复计算。    \n",
    "时间复杂度为O(n)，其中n是数组长度。双指针从两端向中间遍历，每个元素仅被访问一次。"
   ]
  },
  {
   "cell_type": "code",
   "execution_count": 3,
   "metadata": {},
   "outputs": [
    {
     "name": "stdout",
     "output_type": "stream",
     "text": [
      "6\n",
      "9\n"
     ]
    }
   ],
   "source": [
    "# add your code here\n",
    "def trap(height):\n",
    "    if not height:\n",
    "        return 0\n",
    "    left, right = 0, len(height) - 1\n",
    "    left_max = right_max = 0\n",
    "    result = 0\n",
    "    \n",
    "    while left < right:\n",
    "        # 选择高度较小的一侧处理\n",
    "        if height[left] < height[right]:\n",
    "            if height[left] > left_max:\n",
    "                left_max = height[left]\n",
    "            else:\n",
    "                result += left_max - height[left]\n",
    "            left += 1\n",
    "        else:\n",
    "            if height[right] > right_max:\n",
    "                right_max = height[right]\n",
    "            else:\n",
    "                result += right_max - height[right]\n",
    "            right -= 1\n",
    "    return result\n",
    "\n",
    "print(trap([0,1,0,2,1,0,1,3,2,1,2,1]))  \n",
    "print(trap([4,2,0,3,2,5]))              \n",
    "# your algorithm time complexity is:O(n)"
   ]
  },
  {
   "cell_type": "markdown",
   "metadata": {},
   "source": [
    "## 问题 7 \n",
    "\n",
    "**股票投资组合优化**： 假设你是一位投资者，想要在不同的股票中分配你的资金，以最大化你的投资回报。每只股票都有不同的预期收益率和风险。你的目标是选择一些股票，使得总投资金额不超过你的预算，并且预期收益最大化。\n",
    "\n",
    "在这个情况下，你可以将每只股票视为一个“物品”，其重量为投资金额，价值为预期收益率。然后，你可以使用分级背包问题的方法来选择部分股票，以便在预算内获得最大的预期收益。\n",
    "\n",
    "以下是一个简化的例子：\n",
    "\n",
    "假设你有以下三只股票可供选择：\n",
    "\n",
    "1. 股票 A：投资金额 5000 美元，预期收益率 10%\n",
    "2. 股票 B：投资金额 3000 美元，预期收益率 8%\n",
    "3. 股票 C：投资金额 2000 美元，预期收益率 12%\n",
    "\n",
    "请设计算法找到最优投资方案，分析算法设计思路，计算时间复杂度，并基于python编程实现"
   ]
  },
  {
   "cell_type": "markdown",
   "metadata": {},
   "source": [
    "idea：  \n",
    "本问题等价于0-1背包问题，物品为每只股票，重量为投资金额，价值为投资金额×收益率，容量为总投资预算。采用动态规划方法，定义dp[w]表示预算为 w时的最大收益。递推公式为：dp[𝑤]=max(dp[𝑤],dp[𝑤−cost𝑖]+value𝑖)，通过逆序更新一维数组，避免重复选择同一物品。  \n",
    "时间复杂度：O(n·budget)，其中n是股票数量，budget是预算。两者接近时约等于O(n2）"
   ]
  },
  {
   "cell_type": "code",
   "execution_count": 9,
   "metadata": {},
   "outputs": [
    {
     "name": "stdout",
     "output_type": "stream",
     "text": [
      "最大预期收益为：740 美元\n"
     ]
    }
   ],
   "source": [
    "# add your code here\n",
    "def max_profit(stocks, budget):\n",
    "    n = len(stocks)\n",
    "    dp = [0] * (budget + 1)\n",
    "    \n",
    "    for i in range(n):\n",
    "        cost, rate = stocks[i]\n",
    "        value = cost * rate // 100  \n",
    "        for w in range(budget, cost - 1, -1):\n",
    "            dp[w] = max(dp[w], dp[w - cost] + value)\n",
    "    return dp[budget]\n",
    "\n",
    "# 示例输入\n",
    "stocks = [\n",
    "    (5000, 10), \n",
    "    (3000, 8),\n",
    "    (2000, 12)\n",
    "]\n",
    "budget =8000  \n",
    "\n",
    "result = max_profit(stocks, budget)\n",
    "print(f\"最大预期收益为：{result} 美元\") \n",
    "# your algorithm time complexity is:O(n2）"
   ]
  },
  {
   "cell_type": "markdown",
   "metadata": {},
   "source": [
    "## 问题 8\n",
    "\n",
    "给你二叉搜索树的根节点 root ，该树中的恰好两个节点的值被错误地交换。请在不改变其结构的情况下，恢复这棵树 。设计算法解决该问题，分析算法设计思路，计算时间复杂度，并基于python编程实现\n",
    "\n",
    "e.g.:\n",
    "---\n",
    "1.\n",
    "\n",
    "<div style=\"text-align:center;width:200px;\"> <img alt=\"\" src=\"./fig/hw3q9-1.jpg\"> </div>\n",
    "输入：root = [1,3,null,null,2]， 输出为：[3,1,null,null,2]， \n",
    "\n",
    "解释：3 不能是 1 的左孩子，因为 3 > 1 。交换 1 和 3 使二叉搜索树有效。\n",
    "\n",
    "2.\n",
    "\n",
    " <div style=\"text-align:center;width:200px;\"> <img alt=\"\" src=\"./fig/hw3q9-1.jpg\"> </div>\n",
    "输入： root=[3,1,4,null,null,2]， 输出为：[2,1,4,null,null,3]\n",
    "\n",
    "解释：2 不能在 3 的右子树中，因为 2 < 3 。交换 2 和 3 使二叉搜索树有效。"
   ]
  },
  {
   "cell_type": "markdown",
   "metadata": {},
   "source": [
    "idea：  \n",
    "通过中序遍历二叉搜索树（BST）获取节点序列，利用BST中序遍历结果应为严格递增序列的特性，定位其中出现的逆序对。若存在两个逆序对，则交换第一次逆序对的第一个节点和第二次逆序对的第二个节点；若仅存在一次逆序对，则直接交换这两个相邻节点。最终通过值交换恢复递增性。  \n",
    "时间复杂度：中序遍历时间复杂度为O(n)，需遍历所有节点一次。逆序对检测时间复杂度O(n)。节点值交换需常数时间O(1)。总时间复杂度：O(n)"
   ]
  },
  {
   "cell_type": "code",
   "execution_count": 5,
   "metadata": {},
   "outputs": [
    {
     "name": "stdout",
     "output_type": "stream",
     "text": [
      "输入: root=[1, 3, None, None, 2]\n",
      "输出: root=[3, 1, None, None, 2]\n",
      "\n",
      "输入: root=[3, 1, 4, None, None, 2]\n",
      "输出: root=[2, 1, 4, None, None, 3]\n",
      "\n"
     ]
    }
   ],
   "source": [
    "# add your code here\n",
    "class TreeNode:\n",
    "    def __init__(self, val=0, left=None, right=None):\n",
    "        self.val = val\n",
    "        self.left = left\n",
    "        self.right = right\n",
    "\n",
    "class Solution:\n",
    "    def recoverTree(self, root: TreeNode) -> None:\n",
    "        self.prev = None\n",
    "        self.first = None\n",
    "        self.second = None\n",
    "        \n",
    "        def inorder(node):\n",
    "            if not node:\n",
    "                return\n",
    "            inorder(node.left)\n",
    "            if self.prev and self.prev.val > node.val:\n",
    "                if not self.first:\n",
    "                    self.first = self.prev\n",
    "                self.second = node\n",
    "            self.prev = node\n",
    "            inorder(node.right)\n",
    "        \n",
    "        inorder(root)\n",
    "        self.first.val, self.second.val = self.second.val, self.first.val\n",
    "\n",
    "def list_to_tree(lst):\n",
    "    if not lst:\n",
    "        return None\n",
    "    root = TreeNode(lst[0])\n",
    "    queue = [root]\n",
    "    i = 1\n",
    "    while queue and i < len(lst):\n",
    "        node = queue.pop(0)\n",
    "        if lst[i] is not None:\n",
    "            node.left = TreeNode(lst[i])\n",
    "            queue.append(node.left)\n",
    "        i += 1\n",
    "        if i < len(lst) and lst[i] is not None:\n",
    "            node.right = TreeNode(lst[i])\n",
    "            queue.append(node.right)\n",
    "        i += 1\n",
    "    return root\n",
    "\n",
    "def tree_to_list(root):\n",
    "    if not root:\n",
    "        return []\n",
    "    result = []\n",
    "    queue = [root]\n",
    "    while queue:\n",
    "        node = queue.pop(0)\n",
    "        if node:\n",
    "            result.append(node.val)\n",
    "            queue.append(node.left)\n",
    "            queue.append(node.right)\n",
    "        else:\n",
    "            result.append(None)\n",
    "    while result and result[-1] is None:\n",
    "        result.pop()\n",
    "    return result\n",
    "\n",
    "def test_recover_tree(input_lst):\n",
    "    root = list_to_tree(input_lst)\n",
    "    Solution().recoverTree(root)\n",
    "    output_lst = tree_to_list(root)\n",
    "    print(f\"输入: root={input_lst}\")\n",
    "    print(f\"输出: root={output_lst}\\n\")\n",
    "\n",
    "# 示例1\n",
    "test_recover_tree([1, 3, None, None, 2])  \n",
    "\n",
    "# 示例2\n",
    "test_recover_tree([3, 1, 4, None, None, 2])  \n",
    "# your algorithm time complexity is:O(n)"
   ]
  },
  {
   "cell_type": "markdown",
   "metadata": {},
   "source": [
    "## 问题 9  \n",
    "\n",
    "给你一个二叉树的根节点 root ，树中每个节点都存放有一个 0 到 9 之间的数字。每条从根节点到叶节点的路径都代表一个数字：\n",
    "\n",
    "> 例如，从根节点到叶节点的路径 1 -> 2 -> 3 表示数字 123 。\n",
    "\n",
    "设计一个算法计算从根节点到叶节点生成的所有数字之和 ，分析算法设计思路，计算时间复杂度，并基于python编程实现\n",
    "\n",
    "叶节点:是指没有子节点的节点。\n",
    "\n",
    "e.g.:\n",
    "---\n",
    "1.\n",
    "\n",
    " <div style=\"text-align:center;width:200px;\"> <img alt=\"figure\" src=\"./fig/hw3q10-1.jpg\"> </div>\n",
    "\n",
    " 输入：root = [1,2,3], 输出：25\n",
    "\n",
    "解释：从根到叶子节点路径 1->2 代表数字 12，1->3 代表数字 13，因此和为 12 + 13 = 25 。\n",
    "\n",
    "2.\n",
    "\n",
    " <div style=\"text-align:center;width:200px;\"> <img alt=\"figure\" src=\"./fig/hw3q10-2.jpg\"> </div>\n",
    "\n",
    " 输入：root = [4,9,0,5,1], 输出：1026\n",
    "\n",
    "解释：从根到叶子节点路径 4->9->5 代表数字 495，4->9->1 代表数字 491，4->0 代表数字 40。因此和为 495 + 491 + 40 = 1026 。"
   ]
  },
  {
   "cell_type": "markdown",
   "metadata": {},
   "source": [
    "idea：  \n",
    "算法采用深度优先遍历的方式遍历二叉树的每个节点。在递归过程中，逐层计算从根节点到当前节点的路径值：每深入一层，将上层传递的路径值乘以10后加上当前节点的值。当遍历到叶子节点（即没有左右子节点）时，将当前路径值返回并累加到总和中。通过递归累加所有叶子节点的路径值，最终得到所有路径的数字之和。  \n",
    "时间复杂度:每个节点仅被访问一次，时间复杂度为O(n)。每访问一个节点时，执行一次常数时间的数值计算，时间复杂度为O(1)。所有路径值的累加操作在递归返回时完成，时间复杂度为O(1)。总时间复杂度：O(n)。"
   ]
  },
  {
   "cell_type": "code",
   "execution_count": 8,
   "metadata": {},
   "outputs": [
    {
     "name": "stdout",
     "output_type": "stream",
     "text": [
      "输入：root = [1, 2, 3]\n",
      "输出：25\n",
      "输入：root = [4, 9, 0, 5, 1]\n",
      "输出：1026\n"
     ]
    }
   ],
   "source": [
    "# add your code here\n",
    "class TreeNode:\n",
    "    def __init__(self, val=0, left=None, right=None):\n",
    "        self.val = val\n",
    "        self.left = left\n",
    "        self.right = right\n",
    "\n",
    "class Solution:\n",
    "    def sumNumbers(self, root: TreeNode) -> int:\n",
    "        def dfs(node, current_sum):\n",
    "            if not node:\n",
    "                return 0\n",
    "            current_sum = current_sum * 10 + node.val\n",
    "            if not node.left and not node.right:\n",
    "                return current_sum\n",
    "            return dfs(node.left, current_sum) + dfs(node.right, current_sum)\n",
    "        \n",
    "        return dfs(root, 0)\n",
    "\n",
    "def list_to_tree(lst):\n",
    "    if not lst:\n",
    "        return None\n",
    "    root = TreeNode(lst[0])\n",
    "    queue = [root]\n",
    "    i = 1\n",
    "    while queue and i < len(lst):\n",
    "        node = queue.pop(0)\n",
    "        if lst[i] is not None:\n",
    "            node.left = TreeNode(lst[i])\n",
    "            queue.append(node.left)\n",
    "        i += 1\n",
    "        if i < len(lst) and lst[i] is not None:\n",
    "            node.right = TreeNode(lst[i])\n",
    "            queue.append(node.right)\n",
    "        i += 1\n",
    "    return root\n",
    "\n",
    "# 输入处理\n",
    "input_tree1 = [1, 2, 3]\n",
    "root1 = list_to_tree(input_tree1)\n",
    "print(f\"输入：root = {input_tree1}\")\n",
    "print(f\"输出：{Solution().sumNumbers(root1)}\")\n",
    "input_tree2 = [4, 9, 0, 5, 1]\n",
    "root2 = list_to_tree(input_tree2)\n",
    "print(f\"输入：root = {input_tree2}\")\n",
    "print(f\"输出：{Solution().sumNumbers(root2)}\")\n",
    "# your algorithm time complexity is:O(n)"
   ]
  },
  {
   "cell_type": "markdown",
   "metadata": {},
   "source": [
    "## 问题 10  \n",
    "\n",
    "给你一个二叉树的根节点 root ， 检查它是否轴对称。\n",
    "\n",
    "1. 分析算法设计思路，计算时间复杂度，并基于python编程实现\n",
    "2. \\* 设计使用递归和迭代两种方法解决这个问题，计算时间复杂度，并基于python编程实现\n",
    "\n",
    "e.g.:\n",
    "---\n",
    "1.\n",
    "\n",
    " <div style=\"text-align:center;width:200px;\"> <img alt=\"figure\" src=\"./fig/hw3q11-1.png\"> </div>\n",
    "\n",
    " 输入：root = [1,2,2,3,4,4,3]， 输出：true\n",
    "\n",
    "解释：二叉树 [1,2,2,3,4,4,3] 对称。\n",
    "\n",
    "2.\n",
    "\n",
    " <div style=\"text-align:center;width:200px;\"> <img alt=\"figure\" src=\"./fig/hw3q11-2.png\"> </div>\n",
    "\n",
    " 输入：root = [1,2,2,null,3,null,3]， 输出：false"
   ]
  },
  {
   "cell_type": "markdown",
   "metadata": {},
   "source": [
    "idea:  \n",
    "递归解法:递归比较二叉树的左右子树是否互为镜像。从根节点开始，每次递归比较左子树的左子节点与右子树的右子节点，以及左子树的右子节点与右子树的左子节点。若所有对应的节点值相等且子树结构对称，则返回真。  \n",
    "时间复杂度为O(n)，其中n为节点总数，因为每个节点仅被访问一次。"
   ]
  },
  {
   "cell_type": "code",
   "execution_count": 12,
   "metadata": {},
   "outputs": [
    {
     "name": "stdout",
     "output_type": "stream",
     "text": [
      "递归输出: True\n",
      "递归输出: False\n"
     ]
    }
   ],
   "source": [
    "# add your code here\n",
    "class TreeNode:\n",
    "    def __init__(self, val=0, left=None, right=None):\n",
    "        self.val = val\n",
    "        self.left = left\n",
    "        self.right = right\n",
    "\n",
    "def list_to_tree(lst):\n",
    "    if not lst:\n",
    "        return None\n",
    "    root = TreeNode(lst[0])\n",
    "    queue = [root]\n",
    "    i = 1\n",
    "    while queue and i < len(lst):\n",
    "        node = queue.pop(0)\n",
    "        if i < len(lst) and lst[i] is not None:\n",
    "            node.left = TreeNode(lst[i])\n",
    "            queue.append(node.left)\n",
    "        i += 1\n",
    "        if i < len(lst) and lst[i] is not None:\n",
    "            node.right = TreeNode(lst[i])\n",
    "            queue.append(node.right)\n",
    "        i += 1\n",
    "    return root\n",
    "\n",
    "class RecursiveSolution:\n",
    "    def isSymmetric(self, root: TreeNode) -> bool:\n",
    "        def is_mirror(left, right):\n",
    "            # 均为空则对称\n",
    "            if not left and not right:\n",
    "                return True\n",
    "            # 仅一个为空则不对称\n",
    "            if not left or not right:\n",
    "                return False\n",
    "            # 值相等且子树对称\n",
    "            return (left.val == right.val and \n",
    "                    is_mirror(left.left, right.right) and \n",
    "                    is_mirror(left.right, right.left))\n",
    "        \n",
    "        return is_mirror(root.left, root.right) if root else True\n",
    "\n",
    "input1 = [1, 2, 2, 3, 4, 4, 3]\n",
    "root1 = list_to_tree(input1)\n",
    "print(\"递归输出:\", RecursiveSolution().isSymmetric(root1)) \n",
    "\n",
    "input2 = [1, 2, 2, None, 3, None, 3]\n",
    "root2 = list_to_tree(input2)\n",
    "print(\"递归输出:\", RecursiveSolution().isSymmetric(root2)) \n",
    "# your algorithm time complexity is:O(n)"
   ]
  },
  {
   "cell_type": "markdown",
   "metadata": {},
   "source": [
    "idea:  \n",
    "迭代解法:通过队列逐层比较节点对称性。初始时将根节点的左右子节点入队，每次取出两个节点比较值是否相等。若值相等，则将左子树的左子节点与右子树的右子节点入队，以及左子树的右子节点与右子树的左子节点入队，确保对称位置节点被成对比较。  \n",
    "时间复杂度为O(n)，每个节点被访问一次。"
   ]
  },
  {
   "cell_type": "code",
   "execution_count": 13,
   "metadata": {},
   "outputs": [
    {
     "name": "stdout",
     "output_type": "stream",
     "text": [
      "迭代输出: True\n",
      "迭代输出: False\n"
     ]
    }
   ],
   "source": [
    "class TreeNode:\n",
    "    def __init__(self, val=0, left=None, right=None):\n",
    "        self.val = val\n",
    "        self.left = left\n",
    "        self.right = right\n",
    "\n",
    "def list_to_tree(lst):\n",
    "    if not lst:\n",
    "        return None\n",
    "    root = TreeNode(lst[0])\n",
    "    queue = [root]\n",
    "    i = 1\n",
    "    while queue and i < len(lst):\n",
    "        node = queue.pop(0)\n",
    "        if i < len(lst) and lst[i] is not None:\n",
    "            node.left = TreeNode(lst[i])\n",
    "            queue.append(node.left)\n",
    "        i += 1\n",
    "        if i < len(lst) and lst[i] is not None:\n",
    "            node.right = TreeNode(lst[i])\n",
    "            queue.append(node.right)\n",
    "        i += 1\n",
    "    return root\n",
    "\n",
    "class IterativeSolution:\n",
    "    def isSymmetric(self, root: TreeNode) -> bool:\n",
    "        if not root:\n",
    "            return True\n",
    "        queue = []\n",
    "        queue.append((root.left, root.right))\n",
    "        while queue:\n",
    "            left, right = queue.pop(0) \n",
    "            # 两个节点均为空，跳过本次循环\n",
    "            if not left and not right:\n",
    "                continue\n",
    "            # 一个节点为空或值不等，直接返回False\n",
    "            if not left or not right or left.val != right.val:\n",
    "                return False\n",
    "            # 将下一层对称位置的节点对加入队列\n",
    "            queue.append((left.left, right.right))\n",
    "            queue.append((left.right, right.left))\n",
    "        return True\n",
    "\n",
    "input1 = [1, 2, 2, 3, 4, 4, 3]\n",
    "root1 = list_to_tree(input1)\n",
    "print(\"迭代输出:\", IterativeSolution().isSymmetric(root1))  # True\n",
    "\n",
    "input2 = [1, 2, 2, None, 3, None, 3]\n",
    "root2 = list_to_tree(input2)\n",
    "print(\"迭代输出:\", IterativeSolution().isSymmetric(root2))  # False"
   ]
  },
  {
   "cell_type": "markdown",
   "metadata": {},
   "source": [
    "## 问题 11  \n",
    "\n",
    "给你一个由 '1'（陆地）和 '0'（水）组成的的二维网格，请你计算网格中岛屿的数量。岛屿总是被水包围，并且每座岛屿只能由水平方向和/或竖直方向上相邻的陆地连接形成。\n",
    "\n",
    "此外，你可以假设该网格的四条边均被水包围。\n",
    "\n",
    "分析算法设计思路，计算时间复杂度，并基于python编程实现\n",
    "\n",
    "e.g.:\n",
    "---\n",
    "1.\n",
    "输入：grid = [\n",
    "\n",
    "    [\"1\",\"1\",\"1\",\"1\",\"0\"],\n",
    "\n",
    "    [\"1\",\"1\",\"0\",\"1\",\"0\"], \n",
    "\n",
    "    [\"1\",\"1\",\"0\",\"0\",\"0\"], \n",
    "\n",
    "    [\"0\",\"0\",\"0\",\"0\",\"0\"]  \n",
    "\n",
    "]\n",
    "\n",
    "输出：1\n",
    "\n",
    "2.\n",
    "输入：grid = [\n",
    "\n",
    "    [\"1\",\"1\",\"0\",\"0\",\"0\"],\n",
    "\n",
    "    [\"1\",\"1\",\"0\",\"0\",\"0\"],\n",
    "\n",
    "    [\"0\",\"0\",\"1\",\"0\",\"0\"],\n",
    "\n",
    "    [\"0\",\"0\",\"0\",\"1\",\"1\"]\n",
    "\n",
    "]\n",
    "\n",
    "输出：3"
   ]
  },
  {
   "cell_type": "markdown",
   "metadata": {},
   "source": [
    "idea:  \n",
    "使用深度优先搜索（DFS）遍历二维网格。当遇到陆地时，启动DFS递归标记所有相连的陆地为已访问，同时岛屿计数加一。通过遍历所有网格点，未被淹没的陆地即为独立岛屿。  \n",
    "时间复杂度:网格遍历每个节点被访问一次，时间复杂度为O(m×n)。DFS递归每个陆地节点最多触发一次，时间复杂度为O(m×n)。  \n",
    "总时间复杂度为O(m×n)。"
   ]
  },
  {
   "cell_type": "code",
   "execution_count": 15,
   "metadata": {},
   "outputs": [
    {
     "name": "stdout",
     "output_type": "stream",
     "text": [
      "1\n",
      "3\n"
     ]
    }
   ],
   "source": [
    "# add your code here\n",
    "from typing import List\n",
    "\n",
    "class Solution:\n",
    "    def numIslands(self, grid: List[List[str]]) -> int:\n",
    "        if not grid:\n",
    "            return 0\n",
    "        rows = len(grid)\n",
    "        cols = len(grid[0])\n",
    "        count = 0\n",
    "        \n",
    "        def dfs(i: int, j: int):\n",
    "            # 越界或非陆地时终止递归\n",
    "            if i < 0 or j < 0 or i >= rows or j >= cols or grid[i][j] != '1':\n",
    "                return\n",
    "            # 将当前陆地标记为已访问（淹没）\n",
    "            grid[i][j] = '0'\n",
    "            # 递归处理上下左右四个方向\n",
    "            dfs(i + 1, j)\n",
    "            dfs(i - 1, j)\n",
    "            dfs(i, j + 1)\n",
    "            dfs(i, j - 1)\n",
    "        \n",
    "        # 遍历所有网格点\n",
    "        for i in range(rows):\n",
    "            for j in range(cols):\n",
    "                if grid[i][j] == '1':\n",
    "                    count += 1\n",
    "                    dfs(i, j)  # 淹没整个岛屿\n",
    "        return count\n",
    "\n",
    "# 测试示例\n",
    "if __name__ == \"__main__\":\n",
    "    # 示例1\n",
    "    grid1 = [\n",
    "        [\"1\",\"1\",\"1\",\"1\",\"0\"],\n",
    "        [\"1\",\"1\",\"0\",\"1\",\"0\"],\n",
    "        [\"1\",\"1\",\"0\",\"0\",\"0\"],\n",
    "        [\"0\",\"0\",\"0\",\"0\",\"0\"]\n",
    "    ]\n",
    "    print(Solution().numIslands(grid1))  # 输出: 1\n",
    "\n",
    "    # 示例2\n",
    "    grid2 = [\n",
    "        [\"1\",\"1\",\"0\",\"0\",\"0\"],\n",
    "        [\"1\",\"1\",\"0\",\"0\",\"0\"],\n",
    "        [\"0\",\"0\",\"1\",\"0\",\"0\"],\n",
    "        [\"0\",\"0\",\"0\",\"1\",\"1\"]\n",
    "    ]\n",
    "    print(Solution().numIslands(grid2))  # 输出: 3\n",
    "# your algorithm time complexity is:O(m×n)"
   ]
  },
  {
   "cell_type": "code",
   "execution_count": null,
   "metadata": {},
   "outputs": [],
   "source": []
  }
 ],
 "metadata": {
  "kernelspec": {
   "display_name": "Python 3 (ipykernel)",
   "language": "python",
   "name": "python3"
  },
  "language_info": {
   "codemirror_mode": {
    "name": "ipython",
    "version": 3
   },
   "file_extension": ".py",
   "mimetype": "text/x-python",
   "name": "python",
   "nbconvert_exporter": "python",
   "pygments_lexer": "ipython3",
   "version": "3.9.13"
  }
 },
 "nbformat": 4,
 "nbformat_minor": 2
}
