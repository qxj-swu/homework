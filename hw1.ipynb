{
 "cells": [
  {
   "cell_type": "markdown",
   "metadata": {},
   "source": [
    "# algorithm design and anlysis-2025 spring  homework 1 \n",
    "**Deadline**：2025.5.14\n",
    "\n",
    "**name**:\n",
    "\n",
    "\n",
    "note：\n",
    "---\n",
    "1. 带有\\*的题目，申请免上课的同学，必须完成，其他同学选作；\n",
    "2. 请独立完成，如求助了他人或者大模型，请著明，并且不可省略算法分析部分；\n",
    "4. 如若作答有雷同，全部取消成绩；\n",
    "3. 需要书面作答的题目，可以通过引用图片的形式添加，但是注意上传项目时包含所引用的图片的源文件；\n",
    "4. $log_n$ 默认表示$log_2{n}$;"
   ]
  },
  {
   "cell_type": "markdown",
   "metadata": {},
   "source": [
    "## 问题 1\n",
    "\n",
    "对于下面的每一对表达式(A, B), A是否能表示为B的 $\\Theta, \\Omega ,O$形式. 请注意, 这些关系中的零个、一个或多个可能成立。列出所有正确的。经常发生一些学生会,把指示写错, 所以请把关系写完整, 例如: $A = O(B),  A =\\Theta(B)$, 或$A = \\Omega(B)$。\n",
    "\n",
    "1. $A=n^2-100n, B=n^2$\n",
    "2. $A=logn, B=log_{1.2}n$\n",
    "3. $A=3^{2n}, B=2^{4n}$\n",
    "4. $A=2^{logn}, B=n$\n",
    "5. $A=\\log{\\log}{n},B=10^{10^{100}}$"
   ]
  },
  {
   "cell_type": "markdown",
   "metadata": {},
   "source": [
    "answer:  \n",
    "1.A=O(B), A=Ω(B), A=Θ(B)  \n",
    "2.A=O(B), A=Ω(B), A=Θ(B)  \n",
    "3.A=O(B)  \n",
    "4.A=O(B)  \n",
    "5.A=Ω(B)  "
   ]
  },
  {
   "cell_type": "markdown",
   "metadata": {},
   "source": [
    "## 问题 2：\n",
    "\n",
    "假设有函数 $f$ 和 $g$ 使得 $f(n)$ = $O(g(n))$ 对于下面的每一个陈述, 请判断对错, 如果正确请给出证明, 否则请给出一个反例。\n",
    "\n",
    "1. $\\log{f(n)}$ = $O(\\log(1+g(n)))$\n",
    "2. $3^{f(n)}=O(3^{g(n)})$\n",
    "3. $(f(n))^2=O((g(n))^2)$ "
   ]
  },
  {
   "cell_type": "markdown",
   "metadata": {},
   "source": [
    "answer:  \n",
    "<div align=\"center\"> <img alt=\"图片\" src=\"./fig/hw1a2.png\"> </div>\n",
    "<center> 图1.问题2答案</center>"
   ]
  },
  {
   "cell_type": "markdown",
   "metadata": {},
   "source": [
    "## 问题 3\n",
    "\n",
    "根据下列递归公式, 计算下列 $T(n)$ 对应的的渐近上界。要求所求的边界尽可能的紧（tight）, 请写明步骤。\n",
    "\n",
    "1. $T(1)=1; T(n)=T(n/4)+1$ for $n>1$\n",
    "2. $T(1)=1;T(n)=3T(n/3)+n^2$ for $n>1$\n",
    "3. $T(1)=1;T(n)=T(2n/3)+1$ for $n>1$\n",
    "4. $T(1)=1;T(n)=5T(n/4)+n$ for $n>1$\n",
    "5. $T(n)=1 \\ for\\ n \\le 2 ; T(n)=T(\\sqrt{n})+1 \\ for \\ n>2$"
   ]
  },
  {
   "cell_type": "markdown",
   "metadata": {},
   "source": [
    "answer:  \n",
    "<div align=\"center\"> <img alt=\"图片\" src=\"./fig/hw1a3.jpg\"> </div>\n",
    "<center> 图1.问题3答案</center>"
   ]
  },
  {
   "cell_type": "markdown",
   "metadata": {},
   "source": [
    "## 问题 4：\n",
    "\n",
    "给定一个包含n个元素的数组 `profits` , 它的第 `i` 个元素 `profits[i]` 表示一支股票第 `i` 天的**收益**（正数表示涨, 负数表示跌）。你只能选择 **某一天** 买入这只股票, 并选择在 **未来的某一个不同的日子** 卖出该股票。\n",
    "\n",
    "1. 设计一个算法来计算你所能获取的最大利润和对应买入和卖出的日期。请分析算法方案, 计算其时间复杂度, 并且使用python编程实现该算法。\n",
    "\n",
    "2. \\* 设计一个时间复杂度为 $O(n)$的算法实现该算法\n",
    "\n",
    "e.g. :\n",
    "---\n",
    "profits=[3,2,1,-7,5,2,-1,3,-1], 第5天买入, 第8天卖出, 收益最大：9\n",
    "\n"
   ]
  },
  {
   "cell_type": "markdown",
   "metadata": {},
   "source": [
    "idea:  \n",
    "1.通过双重循环遍历所有可能的连续子数组，计算每个子数组的和，记录最大和及其对应的起始和结束位置。外层循环枚举子数组的起始位置i，内层循环枚举子数组的结束位置 j（j ≥ i），累加 profits[j]计算当前子数组和。若当前子数组和超过已知最大值，则更新最大值及对应的起始结束位置。  \n",
    "时间复杂度：O(n²)  \n",
    "2.算法目的是寻找数组中连续子数组的最大和，先将当前子数组和和全局最大和初始化为数组首元素，记录起始和结束索引。然后遍历数组，若当前元素加入子数组后的和更大，则扩展子数组。否则，以当前元素为新子数组起点，并更新临时起始索引。然后更新全局最大值，若当前子数组和超过全局最大值，则更新全局最大值及其对应的起始或结束索引。最后将数组索引转换为从1开始的天数。  \n",
    "时间复杂度：O(n)  "
   ]
  },
  {
   "cell_type": "code",
   "execution_count": 10,
   "metadata": {},
   "outputs": [
    {
     "name": "stdout",
     "output_type": "stream",
     "text": [
      "第5天买入, 第8天卖出，收益最大：9\n"
     ]
    }
   ],
   "source": [
    "# add your code\n",
    "\n",
    "def max_subarray_brute_force(profits):\n",
    "    n = len(profits)\n",
    "    max_sum = float('-inf')\n",
    "    buy_day = 0\n",
    "    sell_day = 0\n",
    "    \n",
    "    for i in range(n):\n",
    "        current_sum = 0\n",
    "        for j in range(i, n):\n",
    "            current_sum += profits[j]\n",
    "            if current_sum > max_sum:\n",
    "                max_sum = current_sum\n",
    "                buy_day = i\n",
    "                sell_day = j\n",
    "    \n",
    "    return max_sum, buy_day + 1, sell_day + 1  # 转换为1-based天数\n",
    "\n",
    "# 测试示例\n",
    "profits = [3, 2, 1, -7, 5, 2, -1, 3, -1]\n",
    "max_profit, buy, sell = max_subarray_brute_force(profits)\n",
    "print(f\"第{buy}天买入, 第{sell}天卖出，收益最大：{max_profit}\")"
   ]
  },
  {
   "cell_type": "code",
   "execution_count": 6,
   "metadata": {},
   "outputs": [
    {
     "name": "stdout",
     "output_type": "stream",
     "text": [
      "第5天买入, 第8天卖出，收益最大：9\n"
     ]
    }
   ],
   "source": [
    "# an algorithm with O(n)\n",
    "\n",
    "def max_profit_days(profits):\n",
    "    if not profits or len(profits) < 2:\n",
    "        return 0, 0, 0 \n",
    "    \n",
    "    max_current = max_global = profits[0]\n",
    "    start = end = temp_start = 0\n",
    "    \n",
    "    for i in range(1, len(profits)):\n",
    "        if max_current + profits[i] > profits[i]:\n",
    "            max_current += profits[i]\n",
    "        else:\n",
    "            max_current = profits[i]\n",
    "            temp_start = i\n",
    "       \n",
    "        if max_current > max_global:\n",
    "            max_global = max_current\n",
    "            start = temp_start\n",
    "            end = i\n",
    "    \n",
    "    buy_day = start + 1\n",
    "    sell_day = end + 1\n",
    "    return max_global, buy_day, sell_day\n",
    "\n",
    "profits = [3,2,1,-7,5,2,-1,3,-1]\n",
    "max_profit, buy, sell = max_profit_days(profits)\n",
    "print(f\"第{buy}天买入, 第{sell}天卖出，收益最大：{max_profit}\")"
   ]
  },
  {
   "cell_type": "markdown",
   "metadata": {},
   "source": [
    "## 问题 5：\n",
    "\n",
    "观察下方的分治算法（divide-and-conquer algorithm）的伪代码, 回答下面问题\n",
    "\n",
    "```latex\n",
    "DoSomething(A,p,r)\n",
    "-----\n",
    "n := r-p+1\n",
    "if n=2 and A[p]>A[r] then\n",
    "    swap A[p] and A[r]\n",
    "else if n >= 3 then\n",
    "    m = ceil(2n/3)\n",
    "    DoSomething(A,p,p+m-1)\n",
    "    DoSomething(A,r-m+1,r)\n",
    "    DoSomething(A,p,p+m-1)  \n",
    "    \n",
    "---\n",
    "first call: DoSomething(A,1,n)\n",
    "```\n",
    "\n",
    "note：$ceil(2n/3)=\\left\\lceil {2n/3} \\right\\rceil$；$:=$ 表示赋值, 等价于 $\\to$；A是一个包含n的整数元素的数组, \n",
    "\n",
    "1. 写出该算法时间复杂度的递归公式, 并求解其对应的渐进表示\n",
    "2. 描述一下该算法的功能, 并判断是否是最高效的解决方案\n",
    "3. 使用python编程实现上述算法或其对应的更高效版本的算法\n"
   ]
  },
  {
   "cell_type": "markdown",
   "metadata": {},
   "source": [
    "idea：  \n",
    "1.时间复杂度：T(n)=3⋅T(2n/3)+O(1)  \n",
    "2.渐进表示：T(n)=Θ(n^log3/2(3))"
   ]
  },
  {
   "cell_type": "markdown",
   "metadata": {},
   "source": [
    "answer:  \n",
    "1.算法描述：\n",
    "该算法通过分治策略对数组进行局部排序，当子数组长度为2时，若逆序则交换元素。并将数组分为前2/3、后2/3、前2/3三部分递归处理，类似插入排序的变种。  \n",
    "2.效率分析：  \n",
    "时间复杂度：O(n^2.7095)，高于归并排序（O(nlogn)）和快速排序（平均 O(nlogn)）,后两者的时间复杂度更低。"
   ]
  },
  {
   "cell_type": "code",
   "execution_count": 7,
   "metadata": {},
   "outputs": [
    {
     "name": "stdout",
     "output_type": "stream",
     "text": [
      "归并排序结果: [1, 1, 2, 3, 4, 5, 6, 9]\n"
     ]
    }
   ],
   "source": [
    "# add your code here\n",
    "def merge_sort(arr):\n",
    "    if len(arr) > 1:\n",
    "        mid = len(arr) // 2\n",
    "        left = arr[:mid]\n",
    "        right = arr[mid:]\n",
    "        merge_sort(left)\n",
    "        merge_sort(right)\n",
    "        i = j = k = 0\n",
    "        while i < len(left) and j < len(right):\n",
    "            if left[i] < right[j]:\n",
    "                arr[k] = left[i]\n",
    "                i += 1\n",
    "            else:\n",
    "                arr[k] = right[j]\n",
    "                j += 1\n",
    "            k += 1\n",
    "        while i < len(left):\n",
    "            arr[k] = left[i]\n",
    "            i += 1\n",
    "            k += 1\n",
    "        while j < len(right):\n",
    "            arr[k] = right[j]\n",
    "            j += 1\n",
    "            k += 1\n",
    "\n",
    "arr = [3, 1, 4, 1, 5, 9, 2, 6]\n",
    "merge_sort(arr)\n",
    "print(\"归并排序结果:\", arr) \n",
    "\n",
    "# your algorithm time complexity is :O(nlogn)"
   ]
  },
  {
   "cell_type": "markdown",
   "metadata": {},
   "source": [
    "## 问题 6：\n",
    "\n",
    "给定一个大小为 `n` 的数组 `nums` , 返回其中的多数元素。多数元素是指在数组中出现次数 **大于** `⌊ n/2 ⌋` 的元素。\n",
    "\n",
    "你可以假设数组是非空的, 并且给定的数组总是存在多数元素。\n",
    "\n",
    "1. 设计一个算法找到给定数组的多数元素, 分析算法设计思路, 计算算法时间复杂度, 使用python编程实现\n",
    "2. \\* 设计时间复杂度为 O(n)、空间复杂度为 O(1) 的算法解决此问题, 分析算法设计思路, 使用python编程实现\n",
    "\n",
    "e.g.:\n",
    "---\n",
    "1. nums=[3,2,3], 返回3\n",
    "2. nums=[2,2,1,1,1,2,2], 返回2\n"
   ]
  },
  {
   "cell_type": "markdown",
   "metadata": {},
   "source": [
    "idea：  \n",
    "通过双重循环遍历数组，对每个元素统计其出现次数，若次数超过 n/2 则返回该元素。外层循环遍历数组中的每个元素 num。内层循环统计 num 在数组中的出现次数。若次数超过 n/2，立即返回 num。  \n",
    "时间复杂度：O(n²)。外层循环执行n次，内层循环每次执行n次，总操作次数为n* n=n²。"
   ]
  },
  {
   "cell_type": "code",
   "execution_count": 9,
   "metadata": {},
   "outputs": [
    {
     "name": "stdout",
     "output_type": "stream",
     "text": [
      "3\n",
      "2\n"
     ]
    }
   ],
   "source": [
    "# add your code here\n",
    "def majority_element_brute_force(nums):\n",
    "    n = len(nums)\n",
    "    for num in nums:\n",
    "        count = 0\n",
    "        for x in nums:\n",
    "            if x == num:\n",
    "                count += 1\n",
    "        if count > n // 2:\n",
    "            return num\n",
    "    return -1\n",
    "\n",
    "print(majority_element_brute_force([3,2,3]))          \n",
    "print(majority_element_brute_force([2,2,1,1,1,2,2]))  \n",
    "\n",
    "# your algorithm time complexity is :O(n²)"
   ]
  },
  {
   "cell_type": "markdown",
   "metadata": {},
   "source": [
    "idea for 2\\*：  \n",
    "使用摩尔投票法，通过抵消机制寻找候选多数元素。假设第一个元素为候选者，计数器 count=1。然后遍历数组，若当前元素等于候选者，count += 1，否则count -= 1。若 count == 0，则更换候选者为当前元素，并重置 count=1。由于非多数元素的抵消次数不会超过多数元素的支持次数，所以遍历结束后，候选者必为多数元素。  \n",
    "时间复杂度：O(n)，只需一次遍历数组。"
   ]
  },
  {
   "cell_type": "code",
   "execution_count": 8,
   "metadata": {},
   "outputs": [
    {
     "name": "stdout",
     "output_type": "stream",
     "text": [
      "3\n",
      "2\n"
     ]
    }
   ],
   "source": [
    "# algorithm time complexity：O(n), space complexity:O(1)\n",
    "# add your code here\n",
    "def majority_element(nums):\n",
    "    candidate = None\n",
    "    count = 0\n",
    "    \n",
    "    for num in nums:\n",
    "        if count == 0:\n",
    "            candidate = num  \n",
    "            count = 1\n",
    "        elif num == candidate:\n",
    "            count += 1\n",
    "        else:\n",
    "            count -= 1\n",
    "    \n",
    "    return candidate\n",
    "\n",
    "print(majority_element([3,2,3]))          \n",
    "print(majority_element([2,2,1,1,1,2,2]))  "
   ]
  },
  {
   "cell_type": "markdown",
   "metadata": {},
   "source": [
    "## 问题 7：\n",
    "\n",
    "给定一个包含不同整数元素的数组 $ A[1..n]$ ,并且满足条件：$A[1]>A[2]$ 并且 $A[n-1]<A[n]$; 规定：如果一个元素比它两边的邻居元素都小, 即：$A[x]<A[x-1], A[x]<A[x+1]$ , 称这个元素A[x]为“局部最小”。通过遍历一次数组, 我们可以很容易在 $O(n)$的时间复杂度下找到一个局部最小值, \n",
    "\n",
    "\n",
    "1. 分析该问题, 设计一个算法在$O(logn)$的时间复杂度下找到一个局部最小(返回数值), 要求：分析算法设计思路, 并且使用python编程实现\n",
    "2. \\* 设计算法找出所有局部最小值, 分析算法设计思路, 并使用python编程实现\n",
    "\n",
    "e.g.:\n",
    "---\n",
    "A=[9, 3, 7, 2, 1, 4, 5 ] 时,  局部最小元素为 3, 1\n"
   ]
  },
  {
   "cell_type": "markdown",
   "metadata": {},
   "source": [
    "idea：  \n",
    "采用二分查找。若数组首元素或尾元素满足局部最小条件，直接返回。若中间元素比左右邻居都小，则直接返回。若中间元素比左邻居大，说明左侧必存在局部最小值（因首元素已满足下降趋势）。若中间元素比右邻居大，说明右侧必存在局部最小值（因尾元素已满足下降趋势）。不断缩小搜索范围至单侧区间，最终找到局部最小值。  \n",
    "时间复杂度：O(logn)，每次迭代将搜索范围减半。"
   ]
  },
  {
   "cell_type": "code",
   "execution_count": 14,
   "metadata": {},
   "outputs": [
    {
     "name": "stdout",
     "output_type": "stream",
     "text": [
      "1\n"
     ]
    }
   ],
   "source": [
    "# add your code here\n",
    "def find_local_min_logn(arr):\n",
    "    n = len(arr)\n",
    "    left, right = 0, n - 1\n",
    "    \n",
    "    while left <= right:\n",
    "        mid = (left + right) // 2\n",
    "        if (mid == 0 or arr[mid] < arr[mid - 1]) and (mid == n - 1 or arr[mid] < arr[mid + 1]):\n",
    "            return arr[mid]\n",
    "        elif mid > 0 and arr[mid] > arr[mid - 1]:\n",
    "            right = mid - 1\n",
    "        else:\n",
    "            left = mid + 1\n",
    "    return -1 \n",
    "\n",
    "A = [9, 3, 7, 2, 1, 4, 5]\n",
    "print(find_local_min_logn(A)) \n",
    "# your algorithm time complexity is :O(logn)"
   ]
  },
  {
   "cell_type": "markdown",
   "metadata": {},
   "source": [
    "idea:  \n",
    "通过一次线性遍历数组，找出所有局部最小值。首元素若小于第二个元素，则为局部最小值。中间元素若同时小于左右相邻元素，则为局部最小值。尾元素若小于倒数第二个元素，则为局部最小值。  \n",
    "时间复杂度：O(n)，n是数组长度。仅对数组进行一次遍历，每个元素最多被访问一次。"
   ]
  },
  {
   "cell_type": "code",
   "execution_count": 11,
   "metadata": {},
   "outputs": [
    {
     "name": "stdout",
     "output_type": "stream",
     "text": [
      "[3, 1]\n"
     ]
    }
   ],
   "source": [
    "# add your code here\n",
    "def find_all_local_mins(arr):\n",
    "    n = len(arr)\n",
    "    local_mins = []\n",
    "    if n == 0:\n",
    "        return local_mins\n",
    "    if n >= 2 and arr[0] < arr[1]:\n",
    "        local_mins.append(arr[0])\n",
    "    for i in range(1, n - 1):\n",
    "        if arr[i] < arr[i - 1] and arr[i] < arr[i + 1]:\n",
    "            local_mins.append(arr[i])\n",
    "    if n >= 2 and arr[-1] < arr[-2]:\n",
    "        local_mins.append(arr[-1])\n",
    "    return local_mins\n",
    "\n",
    "A = [9, 3, 7, 2, 1, 4, 5]\n",
    "print(find_all_local_mins(A)) \n",
    "# your algorithm time complexity is :O(n)"
   ]
  },
  {
   "cell_type": "markdown",
   "metadata": {},
   "source": [
    "## 问题 8：\n",
    "\n",
    "给定包含n个不同数字的一组数, 寻找一种基于比较的算法在这组数中找到k个最小的数字, 并按顺序输出它们。\n",
    "\n",
    "1. 将n个数先进行排序, 然后按顺序输出最小的k个数。要求：选择合适的排序算法实现上述操作, 计算算法时间复杂度, 并使用python编程实现。\n",
    "2. 建立一个包含这n个数的堆（heap）, 并且调用 k 次Extract-min 按顺序输出最小的k个数。使用往空堆中不断插入元素的方法建立堆, 分析这种方法建堆的时间复杂度, 并使用python编程实现\n",
    "3. \\* 假设数组中包含的数据总数目超过了计算机的存储能力, 请设计一个算法, 找到这堆数据的前k小的数值, 计算时间复杂度, 并使用python实现该算法, 假设计算机一定能存储k个数据。\n",
    "\n",
    "e.g.：\n",
    "---\n",
    "数组arr=[5,4,3,2,6,1,88,33,22,107] 的前3个最小数据为：1, 2, 3\n"
   ]
  },
  {
   "cell_type": "markdown",
   "metadata": {},
   "source": [
    "idea：  \n",
    "快速排序选择中间元素作为基准，将数组分为左右两部分，递归排序。排序完成后直接返回前k个元素。  \n",
    "时间复杂度平均情况下为O(nlogn)，最坏情况下为O(n²)。"
   ]
  },
  {
   "cell_type": "code",
   "execution_count": 15,
   "metadata": {},
   "outputs": [
    {
     "name": "stdout",
     "output_type": "stream",
     "text": [
      "[1, 2, 3]\n"
     ]
    }
   ],
   "source": [
    "# add your code here\n",
    "def quick_sort(arr, left, right):\n",
    "    if left >= right:\n",
    "        return\n",
    "    pivot = arr[(left + right) // 2]  \n",
    "    i, j = left, right\n",
    "    while i <= j:\n",
    "        while arr[i] < pivot:\n",
    "            i += 1\n",
    "        while arr[j] > pivot:\n",
    "            j -= 1\n",
    "        if i <= j:\n",
    "            arr[i], arr[j] = arr[j], arr[i]\n",
    "            i += 1\n",
    "            j -= 1\n",
    "    quick_sort(arr, left, j)\n",
    "    quick_sort(arr, i, right)\n",
    "\n",
    "def find_k_smallest_sorted(arr, k):\n",
    "    if k <= 0:\n",
    "        return []\n",
    "    quick_sort(arr, 0, len(arr)-1)\n",
    "    return arr[:k]\n",
    "\n",
    "arr = [5,4,3,2,6,1,88,33,22,107]\n",
    "k = 3\n",
    "print(find_k_smallest_sorted(arr.copy(), k)) \n",
    "# your algorithm time complexity is :O(nlogn)"
   ]
  },
  {
   "cell_type": "markdown",
   "metadata": {},
   "source": [
    "idea：  \n",
    "构建最小堆，将输入数组转换为最小堆，堆顶是当前堆中的最小值。重复k次从堆顶提取最小值，并将堆的最后一个元素移到堆顶，调整堆结构以维持最小堆性质。最终提取的 k 个元素即为数组中最小的 k 个值。  \n",
    "将数组构建成最小堆的时间复杂度为O(n)。每次提取堆顶元素后调整堆的时间复杂度为O(logn)，共执行k次，总时间为O(klogn)。  \n",
    "总时间复杂度：O(n)+O(klogn)=O(n+klogn)"
   ]
  },
  {
   "cell_type": "code",
   "execution_count": 16,
   "metadata": {},
   "outputs": [
    {
     "name": "stdout",
     "output_type": "stream",
     "text": [
      "[1, 2, 3]\n"
     ]
    }
   ],
   "source": [
    "# add your code here\n",
    "def heapify(arr, n, i):\n",
    "    smallest = i\n",
    "    left = 2 * i + 1\n",
    "    right = 2 * i + 2\n",
    "    if left < n and arr[left] < arr[smallest]:\n",
    "        smallest = left\n",
    "    if right < n and arr[right] < arr[smallest]:\n",
    "        smallest = right\n",
    "    if smallest != i:\n",
    "        arr[i], arr[smallest] = arr[smallest], arr[i]\n",
    "        heapify(arr, n, smallest)\n",
    "\n",
    "def build_min_heap(arr):\n",
    "    n = len(arr)\n",
    "    for i in range(n//2 - 1, -1, -1):\n",
    "        heapify(arr, n, i)\n",
    "\n",
    "def find_k_smallest_heap(arr, k):\n",
    "    if k <= 0:\n",
    "        return []\n",
    "    build_min_heap(arr)\n",
    "    result = []\n",
    "    for _ in range(k):\n",
    "        result.append(arr[0])\n",
    "        arr[0] = arr[-1]\n",
    "        arr.pop()\n",
    "        heapify(arr, len(arr), 0)\n",
    "    return result\n",
    "\n",
    "arr = [5,4,3,2,6,1,88,33,22,107]\n",
    "k = 3\n",
    "print(find_k_smallest_heap(arr.copy(), k))  \n",
    "# your algorithm time complexity is : O(n+klogn)"
   ]
  },
  {
   "cell_type": "markdown",
   "metadata": {},
   "source": [
    "idea：  \n",
    "取数组前k个元素构建最大堆，堆顶是这k个元素的最大值。遍历剩余元素，若当前元素小于堆顶，则替换堆顶并调整堆结构，确保堆顶始终是当前堆中的最大值。最终堆中元素即为前k小的元素，排序后返回。  \n",
    "对前k个元素构建最大堆，时间复杂度为 O(k)。对于数组中剩余的n-k个元素，每次插入或替换堆顶的操作需要O(logk)，总时间为O((n-k)logk)。对堆中的k个元素排序，时间复杂度为O(klogk)。  \n",
    "总时间复杂度为：O(k)+O((n−k)logk)+O(klogk)=O(nlogk)"
   ]
  },
  {
   "cell_type": "code",
   "execution_count": 3,
   "metadata": {},
   "outputs": [
    {
     "name": "stdout",
     "output_type": "stream",
     "text": [
      "[1, 2, 3]\n"
     ]
    }
   ],
   "source": [
    "# add your code here\n",
    "def heapify_max(arr, n, i):\n",
    "    largest = i\n",
    "    left = 2 * i + 1\n",
    "    right = 2 * i + 2\n",
    "    if left < n and arr[left] > arr[largest]:\n",
    "        largest = left\n",
    "    if right < n and arr[right] > arr[largest]:\n",
    "        largest = right\n",
    "    if largest != i:\n",
    "        arr[i], arr[largest] = arr[largest], arr[i]\n",
    "        heapify_max(arr, n, largest)\n",
    "\n",
    "def find_k_smallest_streaming(arr, k):\n",
    "    if k <= 0:\n",
    "        return []\n",
    "    max_heap = arr[:k]\n",
    " \n",
    "    for i in range(k//2 - 1, -1, -1):\n",
    "        heapify_max(max_heap, k, i)\n",
    "    for num in arr[k:]:\n",
    "        if num < max_heap[0]:\n",
    "            max_heap[0] = num\n",
    "            heapify_max(max_heap, k, 0)\n",
    " \n",
    "    result = []\n",
    "    while max_heap:\n",
    "        result.append(max_heap[0])\n",
    "        max_heap[0] = max_heap[-1]\n",
    "        max_heap.pop()\n",
    "        heapify_max(max_heap, len(max_heap), 0)\n",
    "    return sorted(result)\n",
    "\n",
    "arr = [5,4,3,2,6,1,88,33,22,107]\n",
    "k = 3\n",
    "print(find_k_smallest_streaming(arr.copy(), k))  \n",
    "# your algorithm time complexity is :O(nlogk)"
   ]
  },
  {
   "cell_type": "markdown",
   "metadata": {},
   "source": [
    "## 问题 9：\n",
    "\n",
    "**选择问题**:给定一个包含n个未排序值的数组A和一个$k≤n$的整数, 返回A中最小的第k项。\n",
    "\n",
    "在课堂上, 学了一个简单的O(n)随机算法来解决选择问题。事实上还有一种更复杂的最坏情况下时间复杂度为$O(n)$ 的选择算法。假设使用一个黑盒过程来实现这个O(n)选择算法: 给定一个数组A、 $p < r$ 和 k,  $BB(A, p, r, k)$ 可以在$O(r−p+ 1)$时间内找到并报告$A[p..r]$中第k小的项的下标。假设你可以在线性时间内处理Partition过程。\n",
    "\n",
    "1. 请分析如何修改 Quicksork 算法可以使其最差情况下的运行时间为 $O(nlogn)$, 使用伪代码实现, 并分析为何修改后的版本最差情况的运行时间为$O(nlogn)$\n",
    "\n",
    "note: 伪代码中, 你可以直接调用用` BB(A,p,r,k)`这个函数用于表示在最坏情况下时间复杂度为$O(n)$的选择算法；\n",
    "\n",
    "\n",
    "\n",
    "2. 找到一个更好的算法报告数组A中的前k小的项, 使用伪代码表示你的算法, 并分析你算法的时间复杂度。\n",
    "\n",
    "举例：A=[13, 3, 7, 9, 11, 1, 15, 2, 8, 10, 12, 16, 14, 5], 当k=4时, 应该报告1, 2, 3, 4\n",
    "\n",
    "note： 最直观的方法就是先将数组A排序, 然后从左向右报告其前k项, 这样操作的时间复杂度为$O(nlogn)$. 调用用` BB(A,p,r,k)`设计一个算法使其报告无序数组A的前k项, 满足时间复杂度好于$\\Theta(nlogn)$, 并且当$k=\\sqrt{n}$时, 你设计的算法时间复杂度应该为$\\Theta(n)$.\n",
    "\n",
    "\n",
    "\n",
    "3. 给定一个大小为n的数组, 找到一个 时间复杂度为$O(n log k)$ 的算法, 该算法将A中的元素重新排序, 使它们被划分为k个部分, 每个部分的元素小于或等于下一部分的元素。假设n和k都是2的幂。使用伪代码表示你的算法, 并分析时间复杂度。\n",
    "\n",
    "e.g.:\n",
    "---\n",
    "数组：[1,  3,  5,  7,  9,  11,  13,  15,  2,  4,  6,  8,  10,  12,  16,  14], k=4, \n",
    "\n",
    "对应重新排序的数组为：[1,  3,  2,  4]  [7,  6,  5,  8]  [12,  11,  10,  9]  [13,  14,  16,  15]\n",
    "\n",
    "\n"
   ]
  },
  {
   "cell_type": "markdown",
   "metadata": {},
   "source": [
    "idea：  \n",
    "快速排序在划分不平衡时的最坏时间复杂度为O(n^2)，通过引入黑盒BB可以确保每次划分的枢轴接近中位数，从而保证划分的平衡性。在每次递归中，使用BB(A,p,r,k)找到当前子数组的中位数作为枢轴。若当前子数组长度为m，则k=m//2，BB返回中位数的下标。然后将枢轴交换到子数组末尾，通过线性扫描完成划分，最后对划分后的左右子数组递归调用修改后的快速排序。  \n",
    "递归深度为O(logn)，时间复杂度为O(nlogn)。"
   ]
  },
  {
   "cell_type": "code",
   "execution_count": 18,
   "metadata": {},
   "outputs": [],
   "source": [
    "def modified_quick_sort(A, p, r):\n",
    "    if p < r:\n",
    "        # 计算子数组长度和中间位置\n",
    "        m = r - p + 1\n",
    "        k = (m) // 2  # 中位数的位置\n",
    "        # 使用BB找到中位数作为枢轴\n",
    "        pivot_index = BB(A, p, r, k + 1)  # BB的k参数是第k小的元素\n",
    "        # 将枢轴交换到子数组末尾\n",
    "        A[pivot_index], A[r] = A[r], A[pivot_index]\n",
    "        # 划分操作\n",
    "        q = partition(A, p, r)\n",
    "        # 递归排序左右子数组\n",
    "        modified_quick_sort(A, p, q - 1)\n",
    "        modified_quick_sort(A, q + 1, r)\n",
    "\n",
    "def partition(A, p, r):\n",
    "    pivot = A[r]  # 枢轴值\n",
    "    i = p - 1     # 小于枢轴的边界\n",
    "    for j in range(p, r):\n",
    "        if A[j] <= pivot:\n",
    "            i += 1\n",
    "            A[i], A[j] = A[j], A[i]\n",
    "    # 将枢轴放到正确位置\n",
    "    A[i + 1], A[r] = A[r], A[i + 1]\n",
    "    return i + 1"
   ]
  },
  {
   "cell_type": "markdown",
   "metadata": {},
   "source": [
    "idea:  \n",
    "利用分治法结合BB函数，将数组划分为多个块，每个块找到前k小元素，再递归合并结果。将数组划分为 k 个块，每个块大小为 n。然后对每个块调用BB找到前k小元素,最后将所有块的候选元素合并，递归调用自身直到找到前k小。   \n",
    "每个块大小为n，共k=根号n块。对每个块调用BB的时间复杂度为O(根号n)，总时间为 O(n)。合并后的候选元素数量为 O(k⋅根号n)=O(n)，但每次递归规模减半，递归深度为O(loglogn)。当k=根号n时，时间复杂度为 O(n)。"
   ]
  },
  {
   "cell_type": "code",
   "execution_count": 21,
   "metadata": {},
   "outputs": [],
   "source": [
    "def find_k_smallest(A, k):\n",
    "    n = len(A)\n",
    "    if n <= k:\n",
    "        return sorted(A)  # 直接返回排序后的数组\n",
    "    # 分块处理\n",
    "    block_size = int(n ** 0.5) \n",
    "    blocks = [A[i:i+block_size] for i in range(0, n, block_size)]\n",
    "    # 对每个块找前k小\n",
    "    candidates = []\n",
    "    for block in blocks:\n",
    "        if not block:\n",
    "            continue\n",
    "        # 使用BB找到块中第k小的元素\n",
    "        kth_index = BB(block, 0, len(block)-1, k)\n",
    "        candidates.extend(block[:kth_index+1])\n",
    "    # 递归找前k小\n",
    "    return find_k_smallest(candidates, k)\n"
   ]
  },
  {
   "cell_type": "markdown",
   "metadata": {},
   "source": [
    "idea:  \n",
    "递归地将数组划分为k部分，每次用BB找到中位数作为枢轴，确保每部分有序。通过分治策略，首先将数组划分为k个子数组，每个子数组大小为 n/k。然后对每个子数组调用BB找到中位数，作为枢轴划分。最后对每个子数组递归执行划分，直到子数组大小为1。  \n",
    "时间复杂度：O(nlogk)。对每个子数组调用 BB 的时间复杂度为O(n/k)，共k个子数组，总时间为O(n)。每次k减半，递归深度为O(logk)。"
   ]
  },
  {
   "cell_type": "code",
   "execution_count": 2,
   "metadata": {},
   "outputs": [],
   "source": [
    "# add your pseudo-code here\n",
    "def partition_into_k(A, k):\n",
    "    n = len(A)\n",
    "    if k == 1:\n",
    "        return [sorted(A)]  # 返回单个有序块\n",
    "    # 计算每个子数组的大小\n",
    "    sub_size = n // k\n",
    "    parts = []\n",
    "    for i in range(k):\n",
    "        start = i * sub_size\n",
    "        end = (i+1)*sub_size if i < k-1 else n\n",
    "        part = A[start:end]\n",
    "        if not part:\n",
    "            continue\n",
    "        # 找到中位数作为枢轴\n",
    "        mid = len(part) // 2\n",
    "        pivot_index = BB(part, 0, len(part)-1, mid+1)  # 中位数是第mid+1小的元素\n",
    "        # 划分操作\n",
    "        part_sorted = partition(part, 0, len(part)-1)\n",
    "        parts.extend(part_sorted)\n",
    "    # 递归处理子部分\n",
    "    return [partition_into_k(part, k//2) for part in parts]"
   ]
  },
  {
   "cell_type": "markdown",
   "metadata": {},
   "source": [
    "## 问题 10：\n",
    "\n",
    "给定一个包含m个**字符串**的数组A, 其中不同的字符串可能有不同的字符数, 但数组中所有字符串的字符总数为n。设计一个算法在 $O(n)$ 时间内对字符串进行排序, 分析算法设计方案, 计算其时间复杂度, 并基于python编程实现该算法。请注意, 假设字符串只包含\"a\",\"b\",...,\"z\", \n",
    "\n",
    "\n",
    "\n",
    "举例1：数组A=[\"a\", \"da\", \"bde\", \"ab\", \"bc\", \"abdc\", \"cdba\"], 排序后的数组应该为：['a', 'ab', 'abdc', 'bc', 'bde', 'cdba', 'da']\n",
    "\n",
    "\n",
    "\n",
    "举例2：数组A=['ab', 'a', 'b', 'abc', 'ba', 'c'], 排序后的数组应该为：\n",
    "\n",
    "['a', 'ab', 'abc', 'b', 'ba', 'c']\n",
    "\n",
    "\n",
    "\n",
    "举例3：数组A=['aef', 'yzr', 'wr', 'ab', 'bhjc', 'lkabdc', 'pwcdba'],  排序后的数组应该为：['ab', 'aef', 'bhjc', 'lkabdc', 'pwcdba', 'wr', 'yzr']\n",
    "\n",
    "\n",
    "\n",
    "note：\n",
    "\n",
    "-  两个字符之间的比较可以考虑比较他们对应的ASCII码值；\n",
    "- python中可以使用`ord(\"a\")`返回字符 “a”对应的ASCII值"
   ]
  },
  {
   "cell_type": "markdown",
   "metadata": {},
   "source": [
    "idea:  \n",
    "使用前缀树和DFS来解决。构建前缀树时，每个节点包含一个字典children来存储子节点，一个标志 is_end表示是否为字符串的结尾。插入每个字符串时，逐个字符处理，创建相应的子节点，并在字符串结束时标记is_end。使用DFS按字符顺序（a到z）遍历前缀树。当遇到is_end为True的节点时，将当前路径的字符组合成字符串，加入结果列表。  \n",
    "时间复杂度：O(n)。插入时每个字符被处理一次，遍历时每个节点被访问一次。"
   ]
  },
  {
   "cell_type": "code",
   "execution_count": 23,
   "metadata": {},
   "outputs": [
    {
     "name": "stdout",
     "output_type": "stream",
     "text": [
      "['a', 'ab', 'abdc', 'bc', 'bde', 'cdba', 'da']\n",
      "['a', 'ab', 'abc', 'b', 'ba', 'c']\n",
      "['ab', 'aef', 'bhjc', 'lkabdc', 'pwcdba', 'wr', 'yzr']\n"
     ]
    }
   ],
   "source": [
    "# add your code here\n",
    "class TrieNode:\n",
    "    def __init__(self):\n",
    "        self.children = {}\n",
    "        self.is_end = False\n",
    "\n",
    "def insert(root, word):\n",
    "    node = root\n",
    "    for char in word:\n",
    "        if char not in node.children:\n",
    "            node.children[char] = TrieNode()\n",
    "        node = node.children[char]\n",
    "    node.is_end = True\n",
    "\n",
    "def collect_words(root):\n",
    "    result = []\n",
    "    def dfs(node, path):\n",
    "        if node.is_end:\n",
    "            result.append(''.join(path))\n",
    "        # 按字符顺序（a-z）访问子节点\n",
    "        for char in sorted(node.children.keys()):\n",
    "            path.append(char)\n",
    "            dfs(node.children[char], path)\n",
    "            path.pop()\n",
    "    dfs(root, [])\n",
    "    return result\n",
    "\n",
    "def sort_strings(A):\n",
    "    root = TrieNode()\n",
    "    for word in A:\n",
    "        insert(root, word)\n",
    "    return collect_words(root)\n",
    "\n",
    "A1 = [\"a\", \"da\", \"bde\", \"ab\", \"bc\", \"abdc\", \"cdba\"]\n",
    "print(sort_strings(A1)) \n",
    "A2 = ['ab', 'a', 'b', 'abc', 'ba', 'c']\n",
    "print(sort_strings(A2)) \n",
    "A3 = ['aef', 'yzr', 'wr', 'ab', 'bhjc', 'lkabdc', 'pwcdba']\n",
    "print(sort_strings(A3))  \n",
    "# your algorithm time complexity is : O(n)"
   ]
  },
  {
   "cell_type": "code",
   "execution_count": null,
   "metadata": {},
   "outputs": [],
   "source": []
  }
 ],
 "metadata": {
  "kernelspec": {
   "display_name": "Python 3 (ipykernel)",
   "language": "python",
   "name": "python3"
  },
  "language_info": {
   "codemirror_mode": {
    "name": "ipython",
    "version": 3
   },
   "file_extension": ".py",
   "mimetype": "text/x-python",
   "name": "python",
   "nbconvert_exporter": "python",
   "pygments_lexer": "ipython3",
   "version": "3.9.13"
  }
 },
 "nbformat": 4,
 "nbformat_minor": 4
}
